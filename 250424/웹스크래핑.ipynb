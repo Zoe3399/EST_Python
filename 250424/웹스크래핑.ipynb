{
 "cells": [
  {
   "cell_type": "markdown",
   "id": "71307948",
   "metadata": {},
   "source": [
    "### 프로토콜(protocol) = 통신 규약"
   ]
  },
  {
   "cell_type": "markdown",
   "id": "cc4885f1",
   "metadata": {},
   "source": []
  }
 ],
 "metadata": {
  "language_info": {
   "name": "python"
  }
 },
 "nbformat": 4,
 "nbformat_minor": 5
}
