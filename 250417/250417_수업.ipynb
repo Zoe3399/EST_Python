{
 "cells": [
  {
   "cell_type": "code",
   "execution_count": 2,
   "id": "c8630169",
   "metadata": {},
   "outputs": [
    {
     "name": "stdout",
     "output_type": "stream",
     "text": [
      "Help on built-in function append:\n",
      "\n",
      "append(object, /) method of builtins.list instance\n",
      "    Append object to the end of the list.\n",
      "\n"
     ]
    }
   ],
   "source": [
    "help([].append)"
   ]
  },
  {
   "cell_type": "code",
   "execution_count": 3,
   "id": "a3484f4e",
   "metadata": {},
   "outputs": [
    {
     "data": {
      "text/plain": [
       "dict"
      ]
     },
     "execution_count": 3,
     "metadata": {},
     "output_type": "execute_result"
    }
   ],
   "source": [
    "type({})"
   ]
  },
  {
   "cell_type": "code",
   "execution_count": 4,
   "id": "9d03b038",
   "metadata": {},
   "outputs": [],
   "source": [
    "di = {'ally':'F'}"
   ]
  },
  {
   "cell_type": "code",
   "execution_count": 7,
   "id": "9e04396c",
   "metadata": {},
   "outputs": [
    {
     "data": {
      "text/plain": [
       "'F'"
      ]
     },
     "execution_count": 7,
     "metadata": {},
     "output_type": "execute_result"
    }
   ],
   "source": [
    "di['ally']"
   ]
  },
  {
   "cell_type": "code",
   "execution_count": 8,
   "id": "49abb80c",
   "metadata": {},
   "outputs": [
    {
     "name": "stdout",
     "output_type": "stream",
     "text": [
      "ally\n",
      "F\n"
     ]
    }
   ],
   "source": [
    "for i in di:\n",
    "    print(i)\n",
    "    print(di[i])"
   ]
  },
  {
   "cell_type": "code",
   "execution_count": 10,
   "id": "11fb0a42",
   "metadata": {},
   "outputs": [
    {
     "name": "stdout",
     "output_type": "stream",
     "text": [
      "ally\n",
      "F\n",
      "bobby\n",
      "M\n"
     ]
    }
   ],
   "source": [
    "di3 = {'ally':'F', 'bobby':'M'}\n",
    "for i in di3:\n",
    "    print(i)\n",
    "    print(di3[i])"
   ]
  },
  {
   "cell_type": "code",
   "execution_count": 13,
   "id": "26885ad0",
   "metadata": {},
   "outputs": [
    {
     "name": "stdout",
     "output_type": "stream",
     "text": [
      "ally\n",
      "F\n",
      "bobby\n",
      "M\n"
     ]
    }
   ],
   "source": [
    "for (i, j) in di3.items():\n",
    "    print(i)\n",
    "    print(j)"
   ]
  },
  {
   "cell_type": "code",
   "execution_count": 14,
   "id": "69fa7bb2",
   "metadata": {},
   "outputs": [
    {
     "data": {
      "text/plain": [
       "False"
      ]
     },
     "execution_count": 14,
     "metadata": {},
     "output_type": "execute_result"
    }
   ],
   "source": [
    "1+2 > 3+1"
   ]
  },
  {
   "cell_type": "code",
   "execution_count": null,
   "id": "564760b9",
   "metadata": {},
   "outputs": [
    {
     "data": {
      "text/plain": [
       "False"
      ]
     },
     "execution_count": 16,
     "metadata": {},
     "output_type": "execute_result"
    }
   ],
   "source": [
    "True and False"
   ]
  },
  {
   "cell_type": "code",
   "execution_count": 17,
   "id": "c373748d",
   "metadata": {},
   "outputs": [
    {
     "data": {
      "text/plain": [
       "True"
      ]
     },
     "execution_count": 17,
     "metadata": {},
     "output_type": "execute_result"
    }
   ],
   "source": [
    "True or False"
   ]
  },
  {
   "cell_type": "code",
   "execution_count": null,
   "id": "709f01a8",
   "metadata": {},
   "outputs": [
    {
     "data": {
      "text/plain": [
       "True"
      ]
     },
     "execution_count": 18,
     "metadata": {},
     "output_type": "execute_result"
    }
   ],
   "source": [
    "False or True"
   ]
  },
  {
   "cell_type": "code",
   "execution_count": 24,
   "id": "a087d07b",
   "metadata": {},
   "outputs": [],
   "source": [
    "a = 1"
   ]
  },
  {
   "cell_type": "code",
   "execution_count": 25,
   "id": "7c9256f3",
   "metadata": {},
   "outputs": [],
   "source": [
    "a = a+1"
   ]
  },
  {
   "cell_type": "code",
   "execution_count": null,
   "id": "504e23a7",
   "metadata": {},
   "outputs": [],
   "source": [
    "a += 1"
   ]
  },
  {
   "cell_type": "code",
   "execution_count": 57,
   "id": "71b2e1d1",
   "metadata": {},
   "outputs": [
    {
     "name": "stdout",
     "output_type": "stream",
     "text": [
      "\n"
     ]
    }
   ],
   "source": [
    "a = input('Enter a number: ')\n",
    "print(a)"
   ]
  },
  {
   "cell_type": "code",
   "execution_count": 31,
   "id": "ef389bba",
   "metadata": {},
   "outputs": [
    {
     "data": {
      "text/plain": [
       "str"
      ]
     },
     "execution_count": 31,
     "metadata": {},
     "output_type": "execute_result"
    }
   ],
   "source": [
    "type(a)"
   ]
  },
  {
   "cell_type": "code",
   "execution_count": 34,
   "id": "8a515243",
   "metadata": {},
   "outputs": [],
   "source": [
    "a =  '오늘','점심','뭐','먹을까?'"
   ]
  },
  {
   "cell_type": "code",
   "execution_count": 35,
   "id": "b0ef1d50",
   "metadata": {},
   "outputs": [
    {
     "name": "stdout",
     "output_type": "stream",
     "text": [
      "Help on built-in function join:\n",
      "\n",
      "join(iterable, /) method of builtins.str instance\n",
      "    Concatenate any number of strings.\n",
      "\n",
      "    The string whose method is called is inserted in between each given string.\n",
      "    The result is returned as a new string.\n",
      "\n",
      "    Example: '.'.join(['ab', 'pq', 'rs']) -> 'ab.pq.rs'\n",
      "\n"
     ]
    }
   ],
   "source": [
    "help(''.join)"
   ]
  },
  {
   "cell_type": "markdown",
   "id": "13d6edfc",
   "metadata": {},
   "source": [
    "---"
   ]
  },
  {
   "cell_type": "markdown",
   "id": "995407b9",
   "metadata": {},
   "source": [
    "### if 문"
   ]
  },
  {
   "cell_type": "code",
   "execution_count": null,
   "id": "717ced0d",
   "metadata": {},
   "outputs": [
    {
     "name": "stdout",
     "output_type": "stream",
     "text": [
      "A\n"
     ]
    }
   ],
   "source": [
    "if True:\n",
    "    print('A')\n",
    "elif False:\n",
    "    print('B')\n",
    "else:\n",
    "    print('C')\n"
   ]
  },
  {
   "cell_type": "markdown",
   "id": "dbd59779",
   "metadata": {},
   "source": [
    "Q. 성적 0에서 100점 사이의 성적을 입력 받아서 조건에 따라 성적처리"
   ]
  },
  {
   "cell_type": "code",
   "execution_count": 38,
   "id": "ac47963b",
   "metadata": {},
   "outputs": [
    {
     "name": "stdout",
     "output_type": "stream",
     "text": [
      "C\n"
     ]
    }
   ],
   "source": [
    "a = int(input('성적입력: '))\n",
    "\n",
    "if a >= 90:\n",
    "    print('A')\n",
    "elif a >= 80:\n",
    "    print('B')\n",
    "elif a >= 70:\n",
    "    print('C')\n",
    "elif a >= 60:\n",
    "    print('D')\n",
    "else:  \n",
    "    print('F')"
   ]
  },
  {
   "cell_type": "markdown",
   "id": "5eeb4694",
   "metadata": {},
   "source": []
  },
  {
   "cell_type": "markdown",
   "id": "f97a3730",
   "metadata": {},
   "source": [
    "10명의 성적을 입력받아서 성적 처리"
   ]
  },
  {
   "cell_type": "code",
   "execution_count": 40,
   "id": "b8c94ae9",
   "metadata": {},
   "outputs": [
    {
     "name": "stdout",
     "output_type": "stream",
     "text": [
      "F\n",
      "B\n",
      "C\n",
      "D\n",
      "C\n",
      "B\n",
      "A\n",
      "B\n",
      "A\n",
      "F\n"
     ]
    }
   ],
   "source": [
    "list_score = list(int(input('성적입력: ')) for i in range(10))\n",
    "\n",
    "for i in list_score:\n",
    "    if i >= 90:\n",
    "        print('A')\n",
    "    elif i >= 80:\n",
    "        print('B')\n",
    "    elif i >= 70:\n",
    "        print('C')\n",
    "    elif i >= 60:\n",
    "        print('D')\n",
    "    else:  \n",
    "        print('F')"
   ]
  },
  {
   "cell_type": "code",
   "execution_count": null,
   "id": "4309e5fd",
   "metadata": {},
   "outputs": [
    {
     "name": "stdout",
     "output_type": "stream",
     "text": [
      "0\n",
      "1\n",
      "2\n",
      "3\n",
      "4\n",
      "5\n",
      "6\n",
      "7\n",
      "8\n",
      "9\n"
     ]
    }
   ],
   "source": [
    "# 1 1부터 10 출력\n",
    "for i in range(10):\n",
    "    print(i)"
   ]
  },
  {
   "cell_type": "code",
   "execution_count": null,
   "id": "bece94d1",
   "metadata": {},
   "outputs": [
    {
     "name": "stdout",
     "output_type": "stream",
     "text": [
      "2\n",
      "4\n",
      "6\n",
      "8\n"
     ]
    }
   ],
   "source": [
    "# 2 짝수 출력\n",
    "for i in range(2, 10,2):\n",
    "    print(i)"
   ]
  },
  {
   "cell_type": "code",
   "execution_count": null,
   "id": "fd2e00eb",
   "metadata": {},
   "outputs": [
    {
     "name": "stdout",
     "output_type": "stream",
     "text": [
      "3\n",
      "6\n",
      "9\n"
     ]
    }
   ],
   "source": [
    "# 3 3의 배수 출력\n",
    "for i in range(3,10,3):\n",
    "    print(i)"
   ]
  },
  {
   "cell_type": "code",
   "execution_count": null,
   "id": "fcaeb678",
   "metadata": {},
   "outputs": [
    {
     "name": "stdout",
     "output_type": "stream",
     "text": [
      "55\n"
     ]
    }
   ],
   "source": [
    "# 4 1부터 10까지 누적합 55\n",
    "num = 0\n",
    "for i in range(0, 11):\n",
    "    num += i\n",
    "print(num)"
   ]
  },
  {
   "cell_type": "code",
   "execution_count": null,
   "id": "08107593",
   "metadata": {},
   "outputs": [
    {
     "name": "stdout",
     "output_type": "stream",
     "text": [
      "1 * 1 = 1\n",
      "1 * 2 = 2\n",
      "1 * 3 = 3\n",
      "1 * 4 = 4\n",
      "1 * 5 = 5\n",
      "1 * 6 = 6\n",
      "1 * 7 = 7\n",
      "1 * 8 = 8\n",
      "1 * 9 = 9\n",
      "\n",
      "2 * 1 = 2\n",
      "2 * 2 = 4\n",
      "2 * 3 = 6\n",
      "2 * 4 = 8\n",
      "2 * 5 = 10\n",
      "2 * 6 = 12\n",
      "2 * 7 = 14\n",
      "2 * 8 = 16\n",
      "2 * 9 = 18\n",
      "\n",
      "3 * 1 = 3\n",
      "3 * 2 = 6\n",
      "3 * 3 = 9\n",
      "3 * 4 = 12\n",
      "3 * 5 = 15\n",
      "3 * 6 = 18\n",
      "3 * 7 = 21\n",
      "3 * 8 = 24\n",
      "3 * 9 = 27\n",
      "\n",
      "4 * 1 = 4\n",
      "4 * 2 = 8\n",
      "4 * 3 = 12\n",
      "4 * 4 = 16\n",
      "4 * 5 = 20\n",
      "4 * 6 = 24\n",
      "4 * 7 = 28\n",
      "4 * 8 = 32\n",
      "4 * 9 = 36\n",
      "\n",
      "5 * 1 = 5\n",
      "5 * 2 = 10\n",
      "5 * 3 = 15\n",
      "5 * 4 = 20\n",
      "5 * 5 = 25\n",
      "5 * 6 = 30\n",
      "5 * 7 = 35\n",
      "5 * 8 = 40\n",
      "5 * 9 = 45\n",
      "\n",
      "6 * 1 = 6\n",
      "6 * 2 = 12\n",
      "6 * 3 = 18\n",
      "6 * 4 = 24\n",
      "6 * 5 = 30\n",
      "6 * 6 = 36\n",
      "6 * 7 = 42\n",
      "6 * 8 = 48\n",
      "6 * 9 = 54\n",
      "\n",
      "7 * 1 = 7\n",
      "7 * 2 = 14\n",
      "7 * 3 = 21\n",
      "7 * 4 = 28\n",
      "7 * 5 = 35\n",
      "7 * 6 = 42\n",
      "7 * 7 = 49\n",
      "7 * 8 = 56\n",
      "7 * 9 = 63\n",
      "\n",
      "8 * 1 = 8\n",
      "8 * 2 = 16\n",
      "8 * 3 = 24\n",
      "8 * 4 = 32\n",
      "8 * 5 = 40\n",
      "8 * 6 = 48\n",
      "8 * 7 = 56\n",
      "8 * 8 = 64\n",
      "8 * 9 = 72\n",
      "\n",
      "9 * 1 = 9\n",
      "9 * 2 = 18\n",
      "9 * 3 = 27\n",
      "9 * 4 = 36\n",
      "9 * 5 = 45\n",
      "9 * 6 = 54\n",
      "9 * 7 = 63\n",
      "9 * 8 = 72\n",
      "9 * 9 = 81\n",
      "\n"
     ]
    }
   ],
   "source": [
    "# 구구단\n",
    "for i in range(1, 10):\n",
    "    for j in range(1, 10):\n",
    "        print(f'{i} * {j} = {i*j}')\n",
    "    print()"
   ]
  },
  {
   "cell_type": "markdown",
   "id": "58a7119d",
   "metadata": {},
   "source": [
    "---"
   ]
  },
  {
   "cell_type": "markdown",
   "id": "aa7db419",
   "metadata": {},
   "source": [
    "### 리스트 내 for\n",
    "- 리스트 안에 for문 사용하기 "
   ]
  },
  {
   "cell_type": "code",
   "execution_count": 65,
   "id": "8d8909a2",
   "metadata": {},
   "outputs": [
    {
     "data": {
      "text/plain": [
       "[1, 2, 3, 4, 5, 6, 7, 8, 9]"
      ]
     },
     "execution_count": 65,
     "metadata": {},
     "output_type": "execute_result"
    }
   ],
   "source": [
    "[i for i in range(1, 10)]"
   ]
  },
  {
   "cell_type": "code",
   "execution_count": 68,
   "id": "45382604",
   "metadata": {},
   "outputs": [],
   "source": [
    "li = [1, 2, 3, 4, 5]"
   ]
  },
  {
   "cell_type": "code",
   "execution_count": 69,
   "id": "47c5ff33",
   "metadata": {},
   "outputs": [
    {
     "data": {
      "text/plain": [
       "[1, 2, 3, 4, 5]"
      ]
     },
     "execution_count": 69,
     "metadata": {},
     "output_type": "execute_result"
    }
   ],
   "source": [
    "[i for i in li]"
   ]
  },
  {
   "cell_type": "code",
   "execution_count": 77,
   "id": "fbeac7dd",
   "metadata": {},
   "outputs": [
    {
     "data": {
      "text/plain": [
       "[2, 4]"
      ]
     },
     "execution_count": 77,
     "metadata": {},
     "output_type": "execute_result"
    }
   ],
   "source": [
    "[i for i in li if i%2 == 0]"
   ]
  },
  {
   "cell_type": "code",
   "execution_count": 76,
   "id": "9408ff7a",
   "metadata": {},
   "outputs": [
    {
     "data": {
      "text/plain": [
       "[4]"
      ]
     },
     "execution_count": 76,
     "metadata": {},
     "output_type": "execute_result"
    }
   ],
   "source": [
    "[i for i in li if i % 2 == 0 and i > 2]    "
   ]
  },
  {
   "cell_type": "markdown",
   "id": "012e6aea",
   "metadata": {},
   "source": [
    "---"
   ]
  },
  {
   "cell_type": "markdown",
   "id": "b06e25ae",
   "metadata": {},
   "source": [
    "## 함수"
   ]
  },
  {
   "cell_type": "code",
   "execution_count": null,
   "id": "c786144a",
   "metadata": {},
   "outputs": [],
   "source": [
    "def seungju():\n",
    "    print('Hi seungju')\n"
   ]
  },
  {
   "cell_type": "code",
   "execution_count": 3,
   "id": "d8a0018c",
   "metadata": {},
   "outputs": [
    {
     "data": {
      "text/plain": [
       "<function __main__.seungju()>"
      ]
     },
     "execution_count": 3,
     "metadata": {},
     "output_type": "execute_result"
    }
   ],
   "source": [
    "seungju"
   ]
  },
  {
   "cell_type": "code",
   "execution_count": 4,
   "id": "9168747c",
   "metadata": {},
   "outputs": [
    {
     "data": {
      "text/plain": [
       "4432734752"
      ]
     },
     "execution_count": 4,
     "metadata": {},
     "output_type": "execute_result"
    }
   ],
   "source": [
    "id(seungju)"
   ]
  },
  {
   "cell_type": "code",
   "execution_count": 5,
   "id": "b0ea3c8f",
   "metadata": {},
   "outputs": [
    {
     "name": "stdout",
     "output_type": "stream",
     "text": [
      "Hi seungju\n"
     ]
    }
   ],
   "source": [
    "seungju()"
   ]
  },
  {
   "cell_type": "code",
   "execution_count": 22,
   "id": "e07eab56",
   "metadata": {},
   "outputs": [],
   "source": [
    "def seungju(gift):\n",
    "    print(f'This is for you : {gift}')"
   ]
  },
  {
   "cell_type": "code",
   "execution_count": 23,
   "id": "436202f2",
   "metadata": {},
   "outputs": [
    {
     "name": "stdout",
     "output_type": "stream",
     "text": [
      "This is for you : 마라탕\n"
     ]
    }
   ],
   "source": [
    "seungju('마라탕')"
   ]
  },
  {
   "cell_type": "code",
   "execution_count": 24,
   "id": "e1768afc",
   "metadata": {},
   "outputs": [
    {
     "name": "stdout",
     "output_type": "stream",
     "text": [
      "This is for you : 베스킨라벤스]\n"
     ]
    }
   ],
   "source": [
    "seungju('베스킨라벤스]')"
   ]
  },
  {
   "cell_type": "code",
   "execution_count": 25,
   "id": "822ef272",
   "metadata": {},
   "outputs": [],
   "source": [
    "def seungju(gift, gift2):\n",
    "    print(f'This is for you : {gift}, {gift2}')"
   ]
  },
  {
   "cell_type": "code",
   "execution_count": 26,
   "id": "9410d8de",
   "metadata": {},
   "outputs": [
    {
     "name": "stdout",
     "output_type": "stream",
     "text": [
      "This is for you : 마라탕, 베라\n"
     ]
    }
   ],
   "source": [
    "seungju('마라탕', '베라')"
   ]
  },
  {
   "cell_type": "code",
   "execution_count": 27,
   "id": "5e49777d",
   "metadata": {},
   "outputs": [],
   "source": [
    "def seungju(gift, gift2, gift3):\n",
    "    print(f'This is for you : {gift}, {gift2}, {gift3}')"
   ]
  },
  {
   "cell_type": "code",
   "execution_count": 28,
   "id": "01ea2511",
   "metadata": {},
   "outputs": [
    {
     "name": "stdout",
     "output_type": "stream",
     "text": [
      "This is for you : 마라탕, 베라, 치킨\n"
     ]
    }
   ],
   "source": [
    "seungju('마라탕', '베라', '치킨')"
   ]
  },
  {
   "cell_type": "code",
   "execution_count": 29,
   "id": "0aaadd4b",
   "metadata": {},
   "outputs": [],
   "source": [
    "def seungju(gift, gift2, gift3):\n",
    "    print(f'Thank you for your gift: {gift}, {gift2}, {gift3} 잘 먹었습니다.')"
   ]
  },
  {
   "cell_type": "code",
   "execution_count": 30,
   "id": "350222d8",
   "metadata": {},
   "outputs": [
    {
     "name": "stdout",
     "output_type": "stream",
     "text": [
      "Thank you for your gift: 마라탕, 베라, 치킨 잘 먹었습니다.\n"
     ]
    }
   ],
   "source": [
    "seungju('마라탕', '베라', '치킨')"
   ]
  },
  {
   "cell_type": "code",
   "execution_count": 31,
   "id": "f1db20f1",
   "metadata": {},
   "outputs": [],
   "source": [
    "def seungju(name, gift, eat, thankyou):\n",
    "    print(f'{name}님이 주신 {gift} 잘 먹었습니다. {eat} 너무 맛있어요. {thankyou}')"
   ]
  },
  {
   "cell_type": "code",
   "execution_count": 33,
   "id": "64b5c5d4",
   "metadata": {},
   "outputs": [
    {
     "name": "stdout",
     "output_type": "stream",
     "text": [
      "선생님이 주신 마라탕 잘 먹었습니다. 마라탕 너무 맛있어요. 감사합니다\n"
     ]
    }
   ],
   "source": [
    "seungju('선생', '마라탕', '마라탕', '감사합니다')"
   ]
  },
  {
   "cell_type": "markdown",
   "id": "71862fb3",
   "metadata": {},
   "source": [
    "# 나만의 계산기 만들기"
   ]
  },
  {
   "cell_type": "code",
   "execution_count": 46,
   "id": "424b9d8a",
   "metadata": {},
   "outputs": [],
   "source": [
    "# 덧셈\n",
    "def calc_add(a, b):\n",
    "    return a + b\n",
    "\n",
    "# 뺄셈\n",
    "def calc_sub(a, b):\n",
    "    return a - b\n",
    "\n",
    "# 곱셈\n",
    "def calc_mul(a, b):\n",
    "    return a * b\n",
    "\n",
    "# 나눗셈\n",
    "def calc_div(a, b):\n",
    "    return a / b\n",
    "\n",
    "# 나머지\n",
    "def calc_mod(a, b):\n",
    "    return a % b\n",
    "\n",
    "# 제곱\n",
    "def calc_pow(a, b):\n",
    "    return a ** b\n",
    "\n",
    "# 나눗셈 몫\n",
    "def calc_divmod(a, b):\n",
    "    return divmod(a, b)"
   ]
  },
  {
   "cell_type": "code",
   "execution_count": 49,
   "id": "89d62874",
   "metadata": {},
   "outputs": [],
   "source": [
    "def calculator():\n",
    "    print(\"=== 🔢 Python 콘솔 계산기 ===\")\n",
    "    print(\"1. 덧셈 (+)\")\n",
    "    print(\"2. 뺄셈 (-)\")\n",
    "    print(\"3. 곱셈 (*)\")\n",
    "    print(\"4. 나눗셈 (/)\")\n",
    "    print(\"5. 나머지 (%)\")\n",
    "    print(\"6. 제곱 (**)\")\n",
    "    print(\"7. 몫과 나머지 (divmod)\")\n",
    "    \n",
    "    op = input(\"원하는 연산 번호를 선택하세요: \")\n",
    "    \n",
    "    a = float(input(\"첫 번째 숫자 입력: \"))\n",
    "    b = float(input(\"두 번째 숫자 입력: \"))\n",
    "\n",
    "    result = None\n",
    "\n",
    "    if op == \"1\":\n",
    "        result = calc_add(a, b)\n",
    "    elif op == \"2\":\n",
    "        result = calc_sub(a, b)\n",
    "    elif op == \"3\":\n",
    "        result = calc_mul(a, b)\n",
    "    elif op == \"4\":\n",
    "        result = calc_div(a, b)\n",
    "    elif op == \"5\":\n",
    "        result = calc_mod(a, b)\n",
    "    elif op == \"6\":\n",
    "        result = calc_pow(a, b)\n",
    "    elif op == \"7\":\n",
    "        result = calc_divmod(a, b)\n",
    "    else:\n",
    "        result = \"잘못된 입력입니다.\"\n",
    "\n",
    "    print(f\"👉 결과: {result}\")\n"
   ]
  },
  {
   "cell_type": "code",
   "execution_count": 35,
   "id": "3a27ba32",
   "metadata": {},
   "outputs": [
    {
     "data": {
      "text/plain": [
       "(2, 1)"
      ]
     },
     "execution_count": 35,
     "metadata": {},
     "output_type": "execute_result"
    }
   ],
   "source": [
    "calc_add(1, 2)"
   ]
  },
  {
   "cell_type": "code",
   "execution_count": 36,
   "id": "a458eccd",
   "metadata": {},
   "outputs": [
    {
     "data": {
      "text/plain": [
       "1"
      ]
     },
     "execution_count": 36,
     "metadata": {},
     "output_type": "execute_result"
    }
   ],
   "source": [
    "calc_sub(2, 1)"
   ]
  },
  {
   "cell_type": "code",
   "execution_count": 37,
   "id": "2766b99d",
   "metadata": {},
   "outputs": [
    {
     "data": {
      "text/plain": [
       "6"
      ]
     },
     "execution_count": 37,
     "metadata": {},
     "output_type": "execute_result"
    }
   ],
   "source": [
    "calc_mul(2, 3)"
   ]
  },
  {
   "cell_type": "code",
   "execution_count": 41,
   "id": "c4b0366c",
   "metadata": {},
   "outputs": [
    {
     "data": {
      "text/plain": [
       "2.0"
      ]
     },
     "execution_count": 41,
     "metadata": {},
     "output_type": "execute_result"
    }
   ],
   "source": [
    "calc_div(4, 2)"
   ]
  },
  {
   "cell_type": "code",
   "execution_count": 43,
   "id": "eb2560c0",
   "metadata": {},
   "outputs": [
    {
     "data": {
      "text/plain": [
       "1"
      ]
     },
     "execution_count": 43,
     "metadata": {},
     "output_type": "execute_result"
    }
   ],
   "source": [
    "calc_mod(5, 2)"
   ]
  },
  {
   "cell_type": "code",
   "execution_count": 44,
   "id": "7fbb3cb6",
   "metadata": {},
   "outputs": [
    {
     "data": {
      "text/plain": [
       "8"
      ]
     },
     "execution_count": 44,
     "metadata": {},
     "output_type": "execute_result"
    }
   ],
   "source": [
    "calc_pow(2, 3)"
   ]
  },
  {
   "cell_type": "code",
   "execution_count": 45,
   "id": "2880e0c8",
   "metadata": {},
   "outputs": [
    {
     "data": {
      "text/plain": [
       "(2, 1)"
      ]
     },
     "execution_count": 45,
     "metadata": {},
     "output_type": "execute_result"
    }
   ],
   "source": [
    "calc_divmod(5, 2)"
   ]
  },
  {
   "cell_type": "code",
   "execution_count": 1,
   "id": "65de5c67",
   "metadata": {},
   "outputs": [
    {
     "name": "stdout",
     "output_type": "stream",
     "text": [
      "=== 🔢 나만의 계산기 만들기 ===\n",
      "1. 덧셈 (+)\n",
      "2. 뺄셈 (-)\n",
      "3. 곱셈 (*)\n",
      "4. 나눗셈 (/)\n",
      "5. 나머지 (%)\n",
      "6. 제곱 (**)\n",
      "7. 몫과 나머지 (divmod)\n"
     ]
    },
    {
     "ename": "ValueError",
     "evalue": "could not convert string to float: ''",
     "output_type": "error",
     "traceback": [
      "\u001b[31m---------------------------------------------------------------------------\u001b[39m",
      "\u001b[31mValueError\u001b[39m                                Traceback (most recent call last)",
      "\u001b[36mCell\u001b[39m\u001b[36m \u001b[39m\u001b[32mIn[1]\u001b[39m\u001b[32m, line 46\u001b[39m\n\u001b[32m     43\u001b[39m     \u001b[38;5;28mprint\u001b[39m(\u001b[33mf\u001b[39m\u001b[33m\"\u001b[39m\u001b[33m👉 결과: \u001b[39m\u001b[38;5;132;01m{\u001b[39;00mresult\u001b[38;5;132;01m}\u001b[39;00m\u001b[33m\"\u001b[39m)\n\u001b[32m     45\u001b[39m \u001b[38;5;66;03m# 실행\u001b[39;00m\n\u001b[32m---> \u001b[39m\u001b[32m46\u001b[39m \u001b[43mcalculator\u001b[49m\u001b[43m(\u001b[49m\u001b[43m)\u001b[49m\n",
      "\u001b[36mCell\u001b[39m\u001b[36m \u001b[39m\u001b[32mIn[1]\u001b[39m\u001b[32m, line 21\u001b[39m, in \u001b[36mcalculator\u001b[39m\u001b[34m()\u001b[39m\n\u001b[32m     17\u001b[39m \u001b[38;5;28mprint\u001b[39m(\u001b[33m\"\u001b[39m\u001b[33m7. 몫과 나머지 (divmod)\u001b[39m\u001b[33m\"\u001b[39m)\n\u001b[32m     19\u001b[39m op = \u001b[38;5;28minput\u001b[39m(\u001b[33m\"\u001b[39m\u001b[33m1~7번중 원하는 연산 숫자를 입력해주세요 : \u001b[39m\u001b[33m\"\u001b[39m)\n\u001b[32m---> \u001b[39m\u001b[32m21\u001b[39m a = \u001b[38;5;28;43mfloat\u001b[39;49m\u001b[43m(\u001b[49m\u001b[38;5;28;43minput\u001b[39;49m\u001b[43m(\u001b[49m\u001b[33;43m\"\u001b[39;49m\u001b[33;43m첫 번째 숫자 입력: \u001b[39;49m\u001b[33;43m\"\u001b[39;49m\u001b[43m)\u001b[49m\u001b[43m)\u001b[49m\n\u001b[32m     22\u001b[39m b = \u001b[38;5;28mfloat\u001b[39m(\u001b[38;5;28minput\u001b[39m(\u001b[33m\"\u001b[39m\u001b[33m두 번째 숫자 입력: \u001b[39m\u001b[33m\"\u001b[39m))\n\u001b[32m     24\u001b[39m result = \u001b[38;5;28;01mNone\u001b[39;00m\n",
      "\u001b[31mValueError\u001b[39m: could not convert string to float: ''"
     ]
    }
   ],
   "source": [
    "def calc_add(a, b): return a + b\n",
    "def calc_sub(a, b): return a - b\n",
    "def calc_mul(a, b): return a * b\n",
    "def calc_div(a, b): return a / b if b != 0 else \"0으로 나눌 수 없습니다.\"\n",
    "def calc_mod(a, b): return a % b\n",
    "def calc_pow(a, b): return a ** b\n",
    "def calc_divmod_(a, b): return divmod(a, b)\n",
    "\n",
    "def calculator():\n",
    "    print(\"=== 🔢 나만의 계산기 만들기 ===\")\n",
    "    print(\"1. 덧셈 (+)\")\n",
    "    print(\"2. 뺄셈 (-)\")\n",
    "    print(\"3. 곱셈 (*)\")\n",
    "    print(\"4. 나눗셈 (/)\")\n",
    "    print(\"5. 나머지 (%)\")\n",
    "    print(\"6. 제곱 (**)\")\n",
    "    print(\"7. 몫과 나머지 (divmod)\")\n",
    "    \n",
    "    op = input(\"1~7번중 원하는 연산 숫자를 입력해주세요 : \")\n",
    "    \n",
    "    a = float(input(\"첫 번째 숫자 입력: \"))\n",
    "    b = float(input(\"두 번째 숫자 입력: \"))\n",
    "\n",
    "    result = None\n",
    "\n",
    "    if op == \"1\":\n",
    "        result = calc_add(a, b)\n",
    "    elif op == \"2\":\n",
    "        result = calc_sub(a, b)\n",
    "    elif op == \"3\":\n",
    "        result = calc_mul(a, b)\n",
    "    elif op == \"4\":\n",
    "        result = calc_div(a, b)\n",
    "    elif op == \"5\":\n",
    "        result = calc_mod(a, b)\n",
    "    elif op == \"6\":\n",
    "        result = calc_pow(a, b)\n",
    "    elif op == \"7\":\n",
    "        result = calc_divmod_(a, b)\n",
    "    else:\n",
    "        result = \"잘못된 입력입니다.\"\n",
    "\n",
    "    print(f\"👉 결과: {result}\")\n",
    "\n",
    "# 실행\n",
    "calculator()"
   ]
  },
  {
   "cell_type": "code",
   "execution_count": null,
   "id": "49f36205",
   "metadata": {},
   "outputs": [],
   "source": []
  }
 ],
 "metadata": {
  "kernelspec": {
   "display_name": "Python 3",
   "language": "python",
   "name": "python3"
  },
  "language_info": {
   "codemirror_mode": {
    "name": "ipython",
    "version": 3
   },
   "file_extension": ".py",
   "mimetype": "text/x-python",
   "name": "python",
   "nbconvert_exporter": "python",
   "pygments_lexer": "ipython3",
   "version": "3.12.3"
  }
 },
 "nbformat": 4,
 "nbformat_minor": 5
}
