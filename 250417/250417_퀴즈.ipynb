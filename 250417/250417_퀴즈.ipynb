{
 "cells": [
  {
   "cell_type": "markdown",
   "id": "37c599ea",
   "metadata": {},
   "source": [
    "## 1주차 퀴즈\n",
    "\n",
    "파일명을 1주차퀴즈_(성함)으로 변경 부탁드립니다.  \n",
    "이번 주말까지 문제 푸시고, 파일 제출해주시면 됩니다."
   ]
  },
  {
   "cell_type": "markdown",
   "id": "c336d9a6",
   "metadata": {},
   "source": [
    "#### 1. 정삼각형 모양으로 별을 찍으세요.\n",
    "\n",
    "아래와 같이 5줄의 정삼각형 모양으로 별을 찍으세요.  \n",
    "<pre>\n",
    "    *\n",
    "   ***\n",
    "  *****\n",
    " *******\n",
    "*********\n",
    "</pre>"
   ]
  },
  {
   "cell_type": "code",
   "execution_count": 61,
   "id": "57c4c3c3",
   "metadata": {},
   "outputs": [
    {
     "name": "stdout",
     "output_type": "stream",
     "text": [
      "    *\n",
      "   ***\n",
      "  *****\n",
      " *******\n",
      "*********\n"
     ]
    }
   ],
   "source": [
    "a = 5\n",
    "for i in range(a):\n",
    "    sp = ' ' * (a - i - 1) # 공뱍\n",
    "    star = '*' * (2 * i + 1) # 별\n",
    "    print(sp + star)"
   ]
  },
  {
   "cell_type": "markdown",
   "id": "69aa867f",
   "metadata": {},
   "source": [
    "#### 2. 윤년인지 판별하세요.\n",
    "\n",
    "연도를 입력받아 윤년 여부를 출력하세요.  \n",
    "윤년 조건:\n",
    "- 연도가 4의 배수이면서 100의 배수가 아님\n",
    "- 연도가 400의 배수\n",
    "  \n",
    "예시)  \n",
    "2024 -> 윤년  \n",
    "2025 -> 평년  \n",
    "2100 -> 평년  \n",
    "2400 -> 윤년"
   ]
  },
  {
   "cell_type": "code",
   "execution_count": 60,
   "id": "5103d0d7",
   "metadata": {},
   "outputs": [
    {
     "name": "stdout",
     "output_type": "stream",
     "text": [
      "평년\n"
     ]
    }
   ],
   "source": [
    "# 답안을 작성해주세요.\n",
    "year = int(input())\n",
    "# 윤년인지 평년인지 판단하는 프로그램\n",
    "# 윤년: 4로 나누어 떨어지고, 100으로 나누어 떨어지지 않거나 400으로 나누어 떨어지는 해\n",
    "# 평년: 나머지 경우\n",
    "# 2000년 같은 윤년은 평년으로 잘못 처리될 수 있어 %400으로 예외처리\n",
    "if (year % 4 == 0 and year % 100 != 0) or (year % 400 == 0):\n",
    "    print(\"윤년\")\n",
    "else:\n",
    "    print(\"평년\")"
   ]
  },
  {
   "cell_type": "markdown",
   "id": "9fcb07fb",
   "metadata": {},
   "source": [
    "#### 3. 딕셔너리를 (키, 밸류) 튜플로 이루어진 리스트로 변환하세요.\n",
    "\n",
    "딕셔너리를 원소가 (키, 밸류) 튜플인 리스트로 변환해 반환하는 함수를 만드세요.  \n",
    "예시)  \n",
    "{'a': 1, 'b': 2, 'c': 3} -> [('a', 1), ('b', 2), ('c', 3)] "
   ]
  },
  {
   "cell_type": "code",
   "execution_count": null,
   "id": "624e4365",
   "metadata": {},
   "outputs": [
    {
     "data": {
      "text/plain": [
       "[('a', 1), ('b', 2), ('c', 3)]"
      ]
     },
     "execution_count": 18,
     "metadata": {},
     "output_type": "execute_result"
    }
   ],
   "source": [
    "# 답안을 작성하세요.\n",
    "# 딕셔너리원소 (key, value) 튜플인 리스트 변환\n",
    "def dict_to_list(d):\n",
    "    # 리스트 원소 (key, value) 튜플인 딕셔너리 변환\n",
    "    # d.items()를 이용해 \n",
    "    # 딕셔너리의 key와 value를 각각 k, v로 가져와서\n",
    "    # (k, v) 형태의 튜플을 리스트로 만들어 반환\n",
    "    return [(k, v) for k, v in d.items()]\n",
    "\n",
    "dict_to_list({'a': 1, 'b': 2, 'c': 3})\n",
    "  "
   ]
  },
  {
   "cell_type": "markdown",
   "id": "d84c7df7",
   "metadata": {},
   "source": [
    "#### 4. 문자열 길이 리스트를 반환하는 함수를 만드세요.\n",
    "\n",
    "리스트가 주어졌을 때, 원소의 자료형이 문자열인 경우에만,  \n",
    "문자열 길이를 리스트로 변환해 반환하는 함수를 만드세요.  \n",
    "예시)  \n",
    "['apple', 'banana', 3, ['cherry', 'kiwi'], 'strawberry'] -> [5, 6, 10]\n",
    "\n",
    "len 함수로 문자열의 길이를 구할 수 있습니다."
   ]
  },
  {
   "cell_type": "markdown",
   "id": "c3a5fc36",
   "metadata": {},
   "source": [
    "### 이건 1차 코드 작성한겁니다!"
   ]
  },
  {
   "cell_type": "code",
   "execution_count": 1,
   "id": "8df452b5",
   "metadata": {},
   "outputs": [
    {
     "name": "stdout",
     "output_type": "stream",
     "text": [
      "[1, 2, 3, 4, 5, 5, 6, 9, 6, 4]\n"
     ]
    }
   ],
   "source": [
    "list_a = [1, 2, 3, 4, 5,'apple', 'orange', 'pineapple', 'banana', 'kiwi']\n",
    "# 리스트 길이만큼 반복\n",
    "for i in range(len(list_a)):\n",
    "    # 리스트의 원소가 문자열인 경우\n",
    "    if isinstance(list_a[i], str):\n",
    "        # list_a[i]의 문자의 길이 확인\n",
    "        #print(len(list_a[i]))\n",
    "        # 문자열 -> 문자열 길이를 넣어줌\n",
    "        list_a[i] = len(list_a[i])\n",
    "    else:\n",
    "        pass\n",
    "print(list_a)\n",
    "\n",
    "# 문자열 길이를 리스트로 변환\n",
    "# 반환"
   ]
  },
  {
   "cell_type": "markdown",
   "id": "2f1872dd",
   "metadata": {},
   "source": [
    "## 답안 코드 (이게 최종본입니다)"
   ]
  },
  {
   "cell_type": "code",
   "execution_count": 55,
   "id": "77318c3d",
   "metadata": {},
   "outputs": [],
   "source": [
    "# 문자열 길이 리스트를 반환하는 함수\n",
    "def to_len(list_a):\n",
    "    # 리스트 길이만큼 반복\n",
    "    for i in range(len(list_a)):\n",
    "        # 만약, i번째 원소가 문자열인 경우\n",
    "        if isinstance(list_a[i], str):\n",
    "            # list_a[i]의 문자의 길이를 list_a[i]에 넣어줌\n",
    "            list_a[i] = len(list_a[i])\n",
    "            # 만약, i번째 원소가 리스트인 경우\n",
    "        elif isinstance(list_a[i], list):\n",
    "            # list_a[i]의 원소를 리스트 길이로 변환\n",
    "            to_len(list_a[i]) # 재귀함수"
   ]
  },
  {
   "cell_type": "code",
   "execution_count": 56,
   "id": "1ae10834",
   "metadata": {},
   "outputs": [],
   "source": [
    "li = ['apple', 'banana', 3, ['cherry', 'kiwi'], 'strawberry']\n",
    "to_len(li)"
   ]
  },
  {
   "cell_type": "code",
   "execution_count": 57,
   "id": "1cfae77f",
   "metadata": {},
   "outputs": [
    {
     "name": "stdout",
     "output_type": "stream",
     "text": [
      "[5, 6, 3, [6, 4], 10]\n"
     ]
    }
   ],
   "source": [
    "print(li)"
   ]
  }
 ],
 "metadata": {
  "kernelspec": {
   "display_name": "Python 3",
   "language": "python",
   "name": "python3"
  },
  "language_info": {
   "codemirror_mode": {
    "name": "ipython",
    "version": 3
   },
   "file_extension": ".py",
   "mimetype": "text/x-python",
   "name": "python",
   "nbconvert_exporter": "python",
   "pygments_lexer": "ipython3",
   "version": "3.12.3"
  }
 },
 "nbformat": 4,
 "nbformat_minor": 5
}
