{
 "cells": [
  {
   "cell_type": "markdown",
   "id": "a9e74a27",
   "metadata": {},
   "source": [
    "### for 반복문 continue"
   ]
  },
  {
   "cell_type": "code",
   "execution_count": 1,
   "id": "4434b068",
   "metadata": {},
   "outputs": [
    {
     "name": "stdout",
     "output_type": "stream",
     "text": [
      "1\n",
      "3\n",
      "5\n",
      "7\n",
      "9\n"
     ]
    }
   ],
   "source": [
    "for i in range(1,10):\n",
    "    if i % 2 == 0:\n",
    "        continue\n",
    "    print(i)"
   ]
  },
  {
   "cell_type": "markdown",
   "id": "c7d84bc7",
   "metadata": {},
   "source": [
    "## enumerate\n",
    "- 리스트나 튜플과 같은 반복 가능한(iterable) 객체를 인덱스 + 값 형태의 튜플로 만들어주는 내장 함수\n",
    "- 인덱스와 함께 값을 다루고 싶을때 유용함.\n",
    "- 필요 시 start = 1로 시작 번호도 바꿀 수 있음."
   ]
  },
  {
   "cell_type": "code",
   "execution_count": 4,
   "id": "a86ba404",
   "metadata": {},
   "outputs": [
    {
     "name": "stdout",
     "output_type": "stream",
     "text": [
      "<enumerate object at 0x10486afc0>\n"
     ]
    },
    {
     "data": {
      "text/plain": [
       "[(0, 10), (1, 20), (2, 30), (3, 40)]"
      ]
     },
     "execution_count": 4,
     "metadata": {},
     "output_type": "execute_result"
    }
   ],
   "source": [
    "numbers = [10, 20, 30, 40]\n",
    "print(enumerate(numbers))\n",
    "list(enumerate(numbers))"
   ]
  },
  {
   "cell_type": "markdown",
   "id": "6db3ad1b",
   "metadata": {},
   "source": [
    "### for문에서 활용"
   ]
  },
  {
   "cell_type": "code",
   "execution_count": 5,
   "id": "a077ec72",
   "metadata": {},
   "outputs": [
    {
     "name": "stdout",
     "output_type": "stream",
     "text": [
      "0 10\n",
      "1 20\n",
      "2 30\n",
      "3 40\n"
     ]
    }
   ],
   "source": [
    "for i, number in enumerate(numbers):\n",
    "    print(i, number)"
   ]
  },
  {
   "cell_type": "markdown",
   "id": "c505b2c6",
   "metadata": {},
   "source": [
    "### Q.  나올 수 있게 enumerate 활용"
   ]
  },
  {
   "cell_type": "code",
   "execution_count": null,
   "id": "6a2a39ba",
   "metadata": {},
   "outputs": [
    {
     "name": "stdout",
     "output_type": "stream",
     "text": [
      "[(0, 'apple'), (1, 'banana'), (2, 'cherry')]\n"
     ]
    }
   ],
   "source": [
    "fruits = ['apple', 'banana', 'cherry']\n",
    "for i, fruit in enumerate(fruits):\n",
    "    continue    \n",
    "print(list(enumerate(fruits)))"
   ]
  },
  {
   "cell_type": "markdown",
   "id": "88092f07",
   "metadata": {},
   "source": [
    "### 이터러블(iterable) vs 이터레이터(iterator)"
   ]
  },
  {
   "cell_type": "code",
   "execution_count": 12,
   "id": "10177846",
   "metadata": {},
   "outputs": [
    {
     "name": "stdout",
     "output_type": "stream",
     "text": [
      "<list_iterator object at 0x1048905e0>\n"
     ]
    },
    {
     "data": {
      "text/plain": [
       "list_iterator"
      ]
     },
     "execution_count": 12,
     "metadata": {},
     "output_type": "execute_result"
    }
   ],
   "source": [
    "li = [1, 2, 3, 4, 5]\n",
    "print(iter(li))\n",
    "type(iter(li))"
   ]
  },
  {
   "cell_type": "code",
   "execution_count": 13,
   "id": "d4d3e357",
   "metadata": {},
   "outputs": [
    {
     "name": "stdout",
     "output_type": "stream",
     "text": [
      "1\n",
      "2\n",
      "3\n",
      "4\n",
      "5\n"
     ]
    }
   ],
   "source": [
    "for i in iter(li):\n",
    "    print(i)"
   ]
  },
  {
   "cell_type": "markdown",
   "id": "1ea8a481",
   "metadata": {},
   "source": [
    "### 튜플 함수\n",
    "- 매개변수 앞에 *는 튜플, **는 딕셔너리"
   ]
  },
  {
   "cell_type": "code",
   "execution_count": 14,
   "id": "370c9c9c",
   "metadata": {},
   "outputs": [
    {
     "name": "stdout",
     "output_type": "stream",
     "text": [
      "(1, 2, 3)\n"
     ]
    }
   ],
   "source": [
    "def f(*values):\n",
    "    print(values)\n",
    "f(1, 2, 3)"
   ]
  },
  {
   "cell_type": "code",
   "execution_count": 16,
   "id": "ee6854ec",
   "metadata": {},
   "outputs": [
    {
     "name": "stdout",
     "output_type": "stream",
     "text": [
      "gift (1, 2, 3)\n"
     ]
    }
   ],
   "source": [
    "def f6(gift, *values):\n",
    "    print(gift,values)\n",
    "f6('gift', 1, 2, 3)"
   ]
  },
  {
   "cell_type": "code",
   "execution_count": 19,
   "id": "cbf7ed9c",
   "metadata": {},
   "outputs": [
    {
     "name": "stdout",
     "output_type": "stream",
     "text": [
      "과일 ('바나나', '사과', '포도')\n"
     ]
    }
   ],
   "source": [
    "def f7(gift, *values):  \n",
    "    print(gift,values)\n",
    "f7('과일','바나나','사과','포도')"
   ]
  },
  {
   "cell_type": "code",
   "execution_count": 23,
   "id": "b84930d3",
   "metadata": {},
   "outputs": [
    {
     "name": "stdout",
     "output_type": "stream",
     "text": [
      "('과일', '바나나', '사과', '포도') 과일\n"
     ]
    }
   ],
   "source": [
    "def f8(*values,menu = \"과일\"):\n",
    "    print(values,menu)\n",
    "f8('과일','바나나','사과','포도')\n",
    "\n"
   ]
  },
  {
   "cell_type": "markdown",
   "id": "32b9eb52",
   "metadata": {},
   "source": [
    "---"
   ]
  },
  {
   "cell_type": "markdown",
   "id": "8d769cf6",
   "metadata": {},
   "source": [
    "## set\n",
    "- 딕셔너리랑 헷갈리지 말기"
   ]
  },
  {
   "cell_type": "code",
   "execution_count": 28,
   "id": "f71cc4e7",
   "metadata": {},
   "outputs": [
    {
     "name": "stdout",
     "output_type": "stream",
     "text": [
      "<class 'set'>\n",
      "{1, 2, 3}\n"
     ]
    }
   ],
   "source": [
    "sets = {1, 2, 3}\n",
    "print(type(sets))\n",
    "print(sets)"
   ]
  },
  {
   "cell_type": "code",
   "execution_count": 36,
   "id": "bd995934",
   "metadata": {},
   "outputs": [],
   "source": [
    "def f15(**values):\n",
    "    print(values)"
   ]
  },
  {
   "cell_type": "code",
   "execution_count": 37,
   "id": "0d6304f1",
   "metadata": {},
   "outputs": [
    {
     "name": "stdout",
     "output_type": "stream",
     "text": [
      "{'name': '홍길동', 'age': 20, 'address': '서울시'}\n"
     ]
    }
   ],
   "source": [
    "f15(name = '홍길동', age = 20, address = '서울시')"
   ]
  },
  {
   "cell_type": "code",
   "execution_count": 38,
   "id": "61735d58",
   "metadata": {},
   "outputs": [
    {
     "name": "stdout",
     "output_type": "stream",
     "text": [
      "{'fruits': ['사과', '바나나', '포도'], 'vegetables': ['상추', '오이', '당근']}\n"
     ]
    }
   ],
   "source": [
    "f15(fruits = ['사과', '바나나', '포도'], vegetables = ['상추', '오이', '당근'])"
   ]
  },
  {
   "cell_type": "code",
   "execution_count": 39,
   "id": "8fc61f3b",
   "metadata": {},
   "outputs": [],
   "source": [
    "def f(**val):\n",
    "    print(val)"
   ]
  },
  {
   "cell_type": "code",
   "execution_count": 40,
   "id": "9ec28f32",
   "metadata": {},
   "outputs": [
    {
     "name": "stdout",
     "output_type": "stream",
     "text": [
      "{}\n"
     ]
    }
   ],
   "source": [
    "f()"
   ]
  },
  {
   "cell_type": "code",
   "execution_count": 41,
   "id": "0366355b",
   "metadata": {},
   "outputs": [
    {
     "name": "stdout",
     "output_type": "stream",
     "text": [
      "{'type': 'healing', 'country': 'Korea', 'city': 'seoul', 'arrive_day': '2023-10-01', 'airline': 'koreanAir', 'arrive_city': 'incheon', 'depart_city': 'LA', 'depart_day': '2023-10-01', 'depart_time': '12:00', 'hotel': 'Hilton', 'room': '101', 'meal': 'breakfast'}\n"
     ]
    }
   ],
   "source": [
    "f(type='healing',country='Korea',city='seoul',arrive_day='2023-10-01',airline='koreanAir',arrive_city = 'incheon',depart_city = 'LA' ,depart_day ='2023-10-01' ,depart_time='12:00',hotel='Hilton',room='101', meal='breakfast')"
   ]
  },
  {
   "cell_type": "markdown",
   "id": "eb9ab212",
   "metadata": {},
   "source": [
    "---"
   ]
  },
  {
   "cell_type": "markdown",
   "id": "67d8f390",
   "metadata": {},
   "source": [
    "### 람다(lambda)\n",
    "• 이름 없는 함수 (익명 함수) <br>\n",
    "• 한 줄짜리 함수 만들 때 사용 <br>\n",
    "• lambda 매개변수: 반환값 <br>\n"
   ]
  },
  {
   "cell_type": "code",
   "execution_count": 43,
   "id": "e8619557",
   "metadata": {},
   "outputs": [],
   "source": [
    "def add(x,y):\n",
    "    return x + y\n",
    "\n",
    "# 람다 함수\n",
    "add__lambda = lambda x, y: x + y"
   ]
  },
  {
   "cell_type": "code",
   "execution_count": 44,
   "id": "79f7110c",
   "metadata": {},
   "outputs": [
    {
     "name": "stdout",
     "output_type": "stream",
     "text": [
      "11\n",
      "11\n"
     ]
    }
   ],
   "source": [
    "print(add(4, 7))\n",
    "print(add__lambda(4, 7))"
   ]
  },
  {
   "cell_type": "code",
   "execution_count": 45,
   "id": "0509970f",
   "metadata": {},
   "outputs": [
    {
     "data": {
      "text/plain": [
       "function"
      ]
     },
     "execution_count": 45,
     "metadata": {},
     "output_type": "execute_result"
    }
   ],
   "source": [
    "type(add__lambda)"
   ]
  },
  {
   "cell_type": "code",
   "execution_count": 47,
   "id": "3d11db40",
   "metadata": {},
   "outputs": [
    {
     "name": "stdout",
     "output_type": "stream",
     "text": [
      "과일개수 : 6\n"
     ]
    }
   ],
   "source": [
    "lambda_fruit = lambda apple,banna, cherry: apple + banna + cherry\n",
    "print('과일개수 : {}'.format(lambda_fruit(1, 2, 3)))"
   ]
  },
  {
   "cell_type": "markdown",
   "id": "59efa1fd",
   "metadata": {},
   "source": [
    "---"
   ]
  },
  {
   "cell_type": "markdown",
   "id": "21c9e042",
   "metadata": {},
   "source": [
    "## 파일 읽기 연습"
   ]
  },
  {
   "cell_type": "code",
   "execution_count": 55,
   "id": "0f463ee6",
   "metadata": {},
   "outputs": [],
   "source": [
    "f1 = open('/Users/joy/Desktop/Git_RP/GitHub/EST_Python/250421/open_sample.txt', 'r')"
   ]
  },
  {
   "cell_type": "code",
   "execution_count": 57,
   "id": "0ed1f678",
   "metadata": {},
   "outputs": [
    {
     "name": "stdout",
     "output_type": "stream",
     "text": [
      "오늘 점심은 뭘 먹으면 좋을까?\n",
      "내일은 뭘 먹으면 좋을까?\n"
     ]
    }
   ],
   "source": [
    "with open('/Users/joy/Desktop/Git_RP/GitHub/EST_Python/250421/open_sample.txt', 'r') as f1:\n",
    "    lines = f1.readlines()\n",
    "    for line in lines:\n",
    "        print(line.strip())\n"
   ]
  },
  {
   "cell_type": "markdown",
   "id": "204e47d2",
   "metadata": {},
   "source": [
    "---"
   ]
  },
  {
   "cell_type": "code",
   "execution_count": 58,
   "id": "175882c2",
   "metadata": {},
   "outputs": [],
   "source": [
    "def return_func(x):\n",
    "    return x\n",
    "    return \"hi\"\n",
    "\n"
   ]
  },
  {
   "cell_type": "code",
   "execution_count": 62,
   "id": "8c418101",
   "metadata": {},
   "outputs": [],
   "source": [
    "def gen_func(x):\n",
    "    print(\"입력값\")\n",
    "    yield x\n",
    "\n",
    "    print(\"입력값+1\")\n",
    "    x += 1\n",
    "    yield x\n",
    "\n",
    "    print(\"입력값+2\")\n",
    "    x += 1\n",
    "    yield x"
   ]
  },
  {
   "cell_type": "code",
   "execution_count": 63,
   "id": "3805b5dd",
   "metadata": {},
   "outputs": [
    {
     "data": {
      "text/plain": [
       "<generator object gen_func at 0x109007940>"
      ]
     },
     "execution_count": 63,
     "metadata": {},
     "output_type": "execute_result"
    }
   ],
   "source": [
    "gen_func(1)"
   ]
  },
  {
   "cell_type": "code",
   "execution_count": 64,
   "id": "a83cccea",
   "metadata": {},
   "outputs": [
    {
     "name": "stdout",
     "output_type": "stream",
     "text": [
      "입력값\n",
      "1\n",
      "입력값+1\n",
      "2\n",
      "입력값+2\n",
      "3\n"
     ]
    }
   ],
   "source": [
    "for i in gen_func(1):\n",
    "    print(i)"
   ]
  },
  {
   "cell_type": "markdown",
   "id": "ebaccac0",
   "metadata": {},
   "source": [
    "---"
   ]
  },
  {
   "cell_type": "markdown",
   "id": "f8d47aa4",
   "metadata": {},
   "source": [
    "### try except else 구문\n",
    "\n",
    "```python\n",
    "try:\n",
    "    # 오류가 발생할 수 있는 코드\n",
    "except:\n",
    "    # 오류 발생 시 실행\n",
    "else:\n",
    "    # 오류가 없을 때만 실행\n",
    "```"
   ]
  },
  {
   "cell_type": "markdown",
   "id": "c0f16ee1",
   "metadata": {},
   "source": [
    "try: 시도 <br>\n",
    "except: 실패 시 대처 <br>\n",
    "else: 성공했을 때만 추가로 실행 <br>\n",
    "finally: 무조건 실행 (정리용) <br>\n"
   ]
  },
  {
   "cell_type": "code",
   "execution_count": 65,
   "id": "a0ae9aa3",
   "metadata": {},
   "outputs": [],
   "source": [
    "num = int(input(\"정수를 입력하세요: \"))"
   ]
  },
  {
   "cell_type": "code",
   "execution_count": 66,
   "id": "9265ceba",
   "metadata": {},
   "outputs": [],
   "source": [
    "try:\n",
    "    num/2\n",
    "except:\n",
    "    print(\"Not divided by 0\")"
   ]
  },
  {
   "cell_type": "code",
   "execution_count": 71,
   "id": "68fb66b7",
   "metadata": {},
   "outputs": [
    {
     "name": "stdout",
     "output_type": "stream",
     "text": [
      "정수를 입력헤야 합니다\n",
      "무조건 실행\n"
     ]
    }
   ],
   "source": [
    "try:\n",
    "    num = int(input(\"정수를 입력하세요: \"))\n",
    "    print(num)\n",
    "    print(2*3.14*num)\n",
    "except: #예외 발생시 처리\n",
    "    print(\"정수를 입력헤야 합니다\") #오류 발생시 출력할 문구\n",
    "else:\n",
    "    print(\"예외가 발생하지 않음\") # 예외가 발생하지 않을 때 실행할 문구\n",
    "finally:\n",
    "    print(\"무조건 실행\") # 예외 발생 여부와 관계없이 실행할 문구"
   ]
  },
  {
   "cell_type": "code",
   "execution_count": null,
   "id": "6647a057",
   "metadata": {},
   "outputs": [],
   "source": []
  }
 ],
 "metadata": {
  "kernelspec": {
   "display_name": "Python 3",
   "language": "python",
   "name": "python3"
  },
  "language_info": {
   "codemirror_mode": {
    "name": "ipython",
    "version": 3
   },
   "file_extension": ".py",
   "mimetype": "text/x-python",
   "name": "python",
   "nbconvert_exporter": "python",
   "pygments_lexer": "ipython3",
   "version": "3.12.3"
  }
 },
 "nbformat": 4,
 "nbformat_minor": 5
}
