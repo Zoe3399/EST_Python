{
 "cells": [
  {
   "cell_type": "markdown",
   "id": "a9e74a27",
   "metadata": {},
   "source": [
    "### for 반복문 continue"
   ]
  },
  {
   "cell_type": "markdown",
   "id": "017669d1",
   "metadata": {},
   "source": [
    "- 조건에 맞으면 continue를 만나고 → 아래 코드를 실행하지 않고 다음 반복 진행\n",
    "- break는 반복문을 아예 종료, continue는 건너뛰고 계속"
   ]
  },
  {
   "cell_type": "code",
   "execution_count": 1,
   "id": "4434b068",
   "metadata": {},
   "outputs": [
    {
     "name": "stdout",
     "output_type": "stream",
     "text": [
      "1\n",
      "3\n",
      "5\n",
      "7\n",
      "9\n"
     ]
    }
   ],
   "source": [
    "for i in range(1,10):\n",
    "    if i % 2 == 0:\n",
    "        continue\n",
    "    print(i)"
   ]
  },
  {
   "cell_type": "markdown",
   "id": "c7d84bc7",
   "metadata": {},
   "source": [
    "## enumerate\n",
    "- 리스트나 튜플과 같은 반복 가능한(iterable) 객체를 인덱스 + 값 형태의 튜플로 만들어주는 내장 함수\n",
    "- 인덱스와 함께 값을 다루고 싶을때 유용함.\n",
    "- 필요 시 start = 1로 시작 번호도 바꿀 수 있음."
   ]
  },
  {
   "cell_type": "code",
   "execution_count": 2,
   "id": "a86ba404",
   "metadata": {},
   "outputs": [
    {
     "name": "stdout",
     "output_type": "stream",
     "text": [
      "<enumerate object at 0x107e7e610>\n"
     ]
    },
    {
     "data": {
      "text/plain": [
       "[(0, 10), (1, 20), (2, 30), (3, 40)]"
      ]
     },
     "execution_count": 2,
     "metadata": {},
     "output_type": "execute_result"
    }
   ],
   "source": [
    "numbers = [10, 20, 30, 40]\n",
    "print(enumerate(numbers))\n",
    "list(enumerate(numbers))"
   ]
  },
  {
   "cell_type": "markdown",
   "id": "6db3ad1b",
   "metadata": {},
   "source": [
    "### for문에서 활용"
   ]
  },
  {
   "cell_type": "code",
   "execution_count": 3,
   "id": "a077ec72",
   "metadata": {},
   "outputs": [
    {
     "name": "stdout",
     "output_type": "stream",
     "text": [
      "0 10\n",
      "1 20\n",
      "2 30\n",
      "3 40\n"
     ]
    }
   ],
   "source": [
    "for i, number in enumerate(numbers):\n",
    "    print(i, number)"
   ]
  },
  {
   "cell_type": "markdown",
   "id": "c505b2c6",
   "metadata": {},
   "source": [
    "#### Q. enumerate 활용해서 [(0, 'apple'), (1, 'banana'), (2, 'cherry')] 출력"
   ]
  },
  {
   "cell_type": "code",
   "execution_count": 4,
   "id": "6a2a39ba",
   "metadata": {},
   "outputs": [
    {
     "name": "stdout",
     "output_type": "stream",
     "text": [
      "[(0, 'apple'), (1, 'banana'), (2, 'cherry')]\n"
     ]
    }
   ],
   "source": [
    "fruits = ['apple', 'banana', 'cherry']\n",
    "# enumerate() 함수를 사용해 (인덱스, 값) 형태의 튜플 리스트로 변환하여 출력\n",
    "print(list(enumerate(fruits)))"
   ]
  },
  {
   "cell_type": "markdown",
   "id": "bb05f36c",
   "metadata": {},
   "source": [
    "---"
   ]
  },
  {
   "cell_type": "markdown",
   "id": "88092f07",
   "metadata": {},
   "source": [
    "### 이터러블(iterable) vs 이터레이터(iterator)\n",
    "\n",
    "✅ 이터러블 (iterable) <br>\n",
    "• 반복 가능한 객체 <br>\n",
    "• for문으로 하나씩 꺼내 쓸 수 있는 것 <br>\n",
    "• 예: list, tuple, str, dict, set"
   ]
  },
  {
   "cell_type": "code",
   "execution_count": 70,
   "id": "10177846",
   "metadata": {},
   "outputs": [
    {
     "name": "stdout",
     "output_type": "stream",
     "text": [
      "<list_iterator object at 0x103e808e0>\n"
     ]
    },
    {
     "data": {
      "text/plain": [
       "list_iterator"
      ]
     },
     "execution_count": 70,
     "metadata": {},
     "output_type": "execute_result"
    }
   ],
   "source": [
    "li = [1, 2, 3, 4, 5]\n",
    "print(iter(li))\n",
    "type(iter(li))"
   ]
  },
  {
   "cell_type": "code",
   "execution_count": 71,
   "id": "f840874d",
   "metadata": {},
   "outputs": [
    {
     "name": "stdout",
     "output_type": "stream",
     "text": [
      "apple\n",
      "banana\n"
     ]
    }
   ],
   "source": [
    "fruits = ['apple', 'banana']\n",
    "for f in fruits:  # fruits는 이터러블\n",
    "    print(f)"
   ]
  },
  {
   "cell_type": "markdown",
   "id": "9fbf94df",
   "metadata": {},
   "source": [
    "✅ 이터레이터 (iterator) <br>\n",
    "• next()로 값을 하나씩 꺼낼 수 있는 객체 <br>\n",
    "• iter()로 이터러블 → 이터레이터로 변환 가능"
   ]
  },
  {
   "cell_type": "code",
   "execution_count": 5,
   "id": "d4d3e357",
   "metadata": {},
   "outputs": [
    {
     "ename": "NameError",
     "evalue": "name 'li' is not defined",
     "output_type": "error",
     "traceback": [
      "\u001b[31m---------------------------------------------------------------------------\u001b[39m",
      "\u001b[31mNameError\u001b[39m                                 Traceback (most recent call last)",
      "\u001b[36mCell\u001b[39m\u001b[36m \u001b[39m\u001b[32mIn[5]\u001b[39m\u001b[32m, line 1\u001b[39m\n\u001b[32m----> \u001b[39m\u001b[32m1\u001b[39m \u001b[38;5;28;01mfor\u001b[39;00m i \u001b[38;5;129;01min\u001b[39;00m \u001b[38;5;28miter\u001b[39m(\u001b[43mli\u001b[49m):\n\u001b[32m      2\u001b[39m     \u001b[38;5;28mprint\u001b[39m(i)\n",
      "\u001b[31mNameError\u001b[39m: name 'li' is not defined"
     ]
    }
   ],
   "source": [
    "for i in iter(li):\n",
    "    print(i)"
   ]
  },
  {
   "cell_type": "code",
   "execution_count": 73,
   "id": "152081c6",
   "metadata": {},
   "outputs": [
    {
     "name": "stdout",
     "output_type": "stream",
     "text": [
      "apple\n",
      "banana\n"
     ]
    }
   ],
   "source": [
    "fruits = ['apple', 'banana']\n",
    "it = iter(fruits)    # 이터러블 → 이터레이터\n",
    "print(next(it))      # apple\n",
    "print(next(it))      # banana"
   ]
  },
  {
   "cell_type": "markdown",
   "id": "1ea8a481",
   "metadata": {},
   "source": [
    "### 튜플 함수\n",
    "### 🔹 *args → 여러 개의 값을 튜플로 받음 <br>"
   ]
  },
  {
   "cell_type": "code",
   "execution_count": 74,
   "id": "370c9c9c",
   "metadata": {},
   "outputs": [
    {
     "name": "stdout",
     "output_type": "stream",
     "text": [
      "(1, 2, 3)\n"
     ]
    }
   ],
   "source": [
    "def f(*values):\n",
    "    print(values)\n",
    "f(1, 2, 3)"
   ]
  },
  {
   "cell_type": "code",
   "execution_count": 75,
   "id": "ee6854ec",
   "metadata": {},
   "outputs": [
    {
     "name": "stdout",
     "output_type": "stream",
     "text": [
      "gift (1, 2, 3)\n"
     ]
    }
   ],
   "source": [
    "def f6(gift, *values):\n",
    "    print(gift,values)\n",
    "f6('gift', 1, 2, 3)"
   ]
  },
  {
   "cell_type": "code",
   "execution_count": 76,
   "id": "cbf7ed9c",
   "metadata": {},
   "outputs": [
    {
     "name": "stdout",
     "output_type": "stream",
     "text": [
      "과일 ('바나나', '사과', '포도')\n"
     ]
    }
   ],
   "source": [
    "def f7(gift, *values):  \n",
    "    print(gift,values)\n",
    "f7('과일','바나나','사과','포도')"
   ]
  },
  {
   "cell_type": "code",
   "execution_count": 77,
   "id": "b84930d3",
   "metadata": {},
   "outputs": [
    {
     "name": "stdout",
     "output_type": "stream",
     "text": [
      "('과일', '바나나', '사과', '포도') 과일\n"
     ]
    }
   ],
   "source": [
    "def f8(*values,menu = \"과일\"):\n",
    "    print(values,menu)\n",
    "f8('과일','바나나','사과','포도')"
   ]
  },
  {
   "cell_type": "markdown",
   "id": "d683140f",
   "metadata": {},
   "source": [
    "### 🔹 **kwargs → 키워드 인자를 딕셔너리로 받음"
   ]
  },
  {
   "cell_type": "code",
   "execution_count": 10,
   "id": "a0aee62a",
   "metadata": {},
   "outputs": [
    {
     "name": "stdout",
     "output_type": "stream",
     "text": [
      "{'a': 1, 'b': 2}\n"
     ]
    }
   ],
   "source": [
    "def print_kwargs(**kwargs):\n",
    "    print(kwargs)\n",
    "\n",
    "print_kwargs(a=1, b=2)  \n",
    "# 출력: {'a': 1, 'b': 2}"
   ]
  },
  {
   "cell_type": "code",
   "execution_count": 11,
   "id": "bd995934",
   "metadata": {},
   "outputs": [],
   "source": [
    "def f15(**values):\n",
    "    print(values)"
   ]
  },
  {
   "cell_type": "code",
   "execution_count": 12,
   "id": "8fc61f3b",
   "metadata": {},
   "outputs": [],
   "source": [
    "def f(**val):\n",
    "    print(val)"
   ]
  },
  {
   "cell_type": "code",
   "execution_count": 13,
   "id": "9985b1ca",
   "metadata": {},
   "outputs": [],
   "source": [
    "def f(**kwargs):\n",
    "    for key, value in kwargs.items():\n",
    "        print(f\"{key} ➡ {value}\")"
   ]
  },
  {
   "cell_type": "markdown",
   "id": "32b9eb52",
   "metadata": {},
   "source": [
    "---"
   ]
  },
  {
   "cell_type": "markdown",
   "id": "8d769cf6",
   "metadata": {},
   "source": [
    "### ✅ set (집합) <br>\n",
    "• 중복 ❌ / 순서 ❌ <br>\n",
    "• 수학의 집합처럼 중복 제거에 사용됨 <br>\n",
    "• { } 사용하지만, 딕셔너리와는 다름 <br>\n",
    "• 리스트 → 집합으로 변환 시 중복 자동 제거"
   ]
  },
  {
   "cell_type": "code",
   "execution_count": 81,
   "id": "e39b903a",
   "metadata": {},
   "outputs": [
    {
     "name": "stdout",
     "output_type": "stream",
     "text": [
      "{'apple', 'cherry', 'banana'}\n"
     ]
    }
   ],
   "source": [
    "fruits = ['apple', 'banana', 'apple', 'cherry']\n",
    "unique_fruits = set(fruits)\n",
    "print(unique_fruits)  # {'banana', 'apple', 'cherry'}"
   ]
  },
  {
   "cell_type": "markdown",
   "id": "779c3704",
   "metadata": {},
   "source": [
    "### ❗ 딕셔너리와의 차이"
   ]
  },
  {
   "cell_type": "markdown",
   "id": "9c98e6ef",
   "metadata": {},
   "source": [
    "### 📌 빈 집합 만들기\n",
    "- 딕셔너리랑 헷갈리지 않게 set()으로 빈 집합 만들기 꼭 기억하기!"
   ]
  },
  {
   "cell_type": "code",
   "execution_count": 113,
   "id": "c876f690",
   "metadata": {},
   "outputs": [],
   "source": [
    "s = set()  # 딕셔너리와 구분: {}는 빈 dict"
   ]
  },
  {
   "cell_type": "code",
   "execution_count": 114,
   "id": "0caf65ed",
   "metadata": {},
   "outputs": [
    {
     "name": "stdout",
     "output_type": "stream",
     "text": [
      "{1, 2, 3}\n"
     ]
    }
   ],
   "source": [
    "s = {1, 2, 3, 3}\n",
    "print(s)  # 출력: {1, 2, 3}"
   ]
  },
  {
   "cell_type": "code",
   "execution_count": 115,
   "id": "f71cc4e7",
   "metadata": {},
   "outputs": [
    {
     "name": "stdout",
     "output_type": "stream",
     "text": [
      "<class 'set'>\n"
     ]
    }
   ],
   "source": [
    "print(type(s))"
   ]
  },
  {
   "cell_type": "code",
   "execution_count": 116,
   "id": "9ec28f32",
   "metadata": {},
   "outputs": [],
   "source": [
    "f()"
   ]
  },
  {
   "cell_type": "code",
   "execution_count": 117,
   "id": "746b70c4",
   "metadata": {},
   "outputs": [],
   "source": [
    "f15 = set()"
   ]
  },
  {
   "cell_type": "code",
   "execution_count": 118,
   "id": "0d6304f1",
   "metadata": {},
   "outputs": [
    {
     "name": "stdout",
     "output_type": "stream",
     "text": [
      "{'홍길동', '서울시', 20}\n"
     ]
    }
   ],
   "source": [
    "f15 = {'홍길동', 20, '서울시'}  # set은 key 없이 값만 넣음\n",
    "print(f15)"
   ]
  },
  {
   "cell_type": "code",
   "execution_count": 2,
   "id": "2168422e",
   "metadata": {},
   "outputs": [
    {
     "name": "stdout",
     "output_type": "stream",
     "text": [
      "{'칫솔', '치약', '양말', '수건'}\n"
     ]
    }
   ],
   "source": [
    "items = ['칫솔', '치약', '수건', '칫솔', '양말', '수건']\n",
    "unique_items = set(items)\n",
    "print(unique_items)"
   ]
  },
  {
   "cell_type": "markdown",
   "id": "eb9ab212",
   "metadata": {},
   "source": [
    "---"
   ]
  },
  {
   "cell_type": "markdown",
   "id": "67d8f390",
   "metadata": {},
   "source": [
    "### 람다(lambda)\n",
    "• 이름 없는 함수 (익명 함수) <br>\n",
    "• 한 줄짜리 함수 만들 때 사용 <br>\n",
    "• lambda 매개변수: 반환값 <br>\n"
   ]
  },
  {
   "cell_type": "code",
   "execution_count": null,
   "id": "e8619557",
   "metadata": {},
   "outputs": [],
   "source": [
    "def add(x,y):\n",
    "    return x + y\n",
    "\n",
    "# 람다 함수\n",
    "add__lambda = lambda x, y: x + y"
   ]
  },
  {
   "cell_type": "code",
   "execution_count": 3,
   "id": "79f7110c",
   "metadata": {},
   "outputs": [
    {
     "name": "stdout",
     "output_type": "stream",
     "text": [
      "11\n",
      "11\n"
     ]
    }
   ],
   "source": [
    "print(add(4, 7))\n",
    "print(add__lambda(4, 7))"
   ]
  },
  {
   "cell_type": "code",
   "execution_count": 5,
   "id": "0509970f",
   "metadata": {},
   "outputs": [
    {
     "data": {
      "text/plain": [
       "function"
      ]
     },
     "execution_count": 5,
     "metadata": {},
     "output_type": "execute_result"
    }
   ],
   "source": [
    "type(add__lambda)"
   ]
  },
  {
   "cell_type": "code",
   "execution_count": 6,
   "id": "3d11db40",
   "metadata": {},
   "outputs": [
    {
     "name": "stdout",
     "output_type": "stream",
     "text": [
      "과일개수 : 6\n"
     ]
    }
   ],
   "source": [
    "lambda_fruit = lambda apple,banna, cherry: apple + banna + cherry\n",
    "print('과일개수 : {}'.format(lambda_fruit(1, 2, 3)))"
   ]
  },
  {
   "cell_type": "markdown",
   "id": "59efa1fd",
   "metadata": {},
   "source": [
    "---"
   ]
  },
  {
   "cell_type": "markdown",
   "id": "21c9e042",
   "metadata": {},
   "source": [
    "## 파일 읽기 연습"
   ]
  },
  {
   "cell_type": "code",
   "execution_count": 7,
   "id": "0f463ee6",
   "metadata": {},
   "outputs": [],
   "source": [
    "f1 = open('/Users/joy/Desktop/Git_RP/GitHub/EST_Python/250421/open_sample.txt', 'r')"
   ]
  },
  {
   "cell_type": "code",
   "execution_count": 8,
   "id": "0ed1f678",
   "metadata": {},
   "outputs": [
    {
     "name": "stdout",
     "output_type": "stream",
     "text": [
      "오늘 점심은 뭘 먹으면 좋을까?\n",
      "내일은 뭘 먹으면 좋을까?\n"
     ]
    }
   ],
   "source": [
    "with open('/Users/joy/Desktop/Git_RP/GitHub/EST_Python/250421/open_sample.txt', 'r') as f1:\n",
    "    lines = f1.readlines()\n",
    "    for line in lines:\n",
    "        print(line.strip())\n"
   ]
  },
  {
   "cell_type": "markdown",
   "id": "204e47d2",
   "metadata": {},
   "source": [
    "---"
   ]
  },
  {
   "cell_type": "code",
   "execution_count": 9,
   "id": "175882c2",
   "metadata": {},
   "outputs": [],
   "source": [
    "def return_func(x):\n",
    "    return x\n",
    "    return \"hi\"\n",
    "\n"
   ]
  },
  {
   "cell_type": "code",
   "execution_count": 10,
   "id": "8c418101",
   "metadata": {},
   "outputs": [],
   "source": [
    "def gen_func(x):\n",
    "    print(\"입력값\")\n",
    "    yield x\n",
    "\n",
    "    print(\"입력값+1\")\n",
    "    x += 1\n",
    "    yield x\n",
    "\n",
    "    print(\"입력값+2\")\n",
    "    x += 1\n",
    "    yield x"
   ]
  },
  {
   "cell_type": "code",
   "execution_count": 11,
   "id": "3805b5dd",
   "metadata": {},
   "outputs": [
    {
     "data": {
      "text/plain": [
       "<generator object gen_func at 0x121e79f00>"
      ]
     },
     "execution_count": 11,
     "metadata": {},
     "output_type": "execute_result"
    }
   ],
   "source": [
    "gen_func(1)"
   ]
  },
  {
   "cell_type": "code",
   "execution_count": 12,
   "id": "a83cccea",
   "metadata": {},
   "outputs": [
    {
     "name": "stdout",
     "output_type": "stream",
     "text": [
      "입력값\n",
      "1\n",
      "입력값+1\n",
      "2\n",
      "입력값+2\n",
      "3\n"
     ]
    }
   ],
   "source": [
    "for i in gen_func(1):\n",
    "    print(i)"
   ]
  },
  {
   "cell_type": "markdown",
   "id": "ebaccac0",
   "metadata": {},
   "source": [
    "---"
   ]
  },
  {
   "cell_type": "markdown",
   "id": "f8d47aa4",
   "metadata": {},
   "source": [
    "### try except else 구문\n",
    "\n",
    "```python\n",
    "try:\n",
    "    # 오류가 발생할 수 있는 코드\n",
    "except:\n",
    "    # 오류 발생 시 실행\n",
    "else:\n",
    "    # 오류가 없을 때만 실행\n",
    "```"
   ]
  },
  {
   "cell_type": "markdown",
   "id": "c0f16ee1",
   "metadata": {},
   "source": [
    "try: 시도 <br>\n",
    "except: 실패 시 대처 <br>\n",
    "else: 성공했을 때만 추가로 실행 <br>\n",
    "finally: 무조건 실행 (정리용) <br>\n"
   ]
  },
  {
   "cell_type": "code",
   "execution_count": 73,
   "id": "a0ae9aa3",
   "metadata": {},
   "outputs": [],
   "source": [
    "num = int(input(\"정수를 입력하세요: \"))"
   ]
  },
  {
   "cell_type": "code",
   "execution_count": 75,
   "id": "9265ceba",
   "metadata": {},
   "outputs": [],
   "source": [
    "try:\n",
    "    num/2\n",
    "except:\n",
    "    print(\"Not divided by 0\")"
   ]
  },
  {
   "cell_type": "code",
   "execution_count": 5,
   "id": "68fb66b7",
   "metadata": {},
   "outputs": [
    {
     "name": "stdout",
     "output_type": "stream",
     "text": [
      "34\n",
      "213.52\n",
      "예외가 발생하지 않음\n",
      "무조건 실행\n"
     ]
    }
   ],
   "source": [
    "try:\n",
    "    num = int(input(\"정수를 입력하세요: \"))\n",
    "    print(num)\n",
    "    print(2*3.14*num)\n",
    "except: #예외 발생시 처리\n",
    "    print(\"정수를 입력헤야 합니다\") #오류 발생시 출력할 문구\n",
    "else:\n",
    "    print(\"예외가 발생하지 않음\") # 예외가 발생하지 않을 때 실행할 문구\n",
    "finally:\n",
    "    print(\"무조건 실행\") # 예외 발생 여부와 관계없이 실행할 문구"
   ]
  },
  {
   "cell_type": "code",
   "execution_count": null,
   "id": "3a35e834",
   "metadata": {},
   "outputs": [],
   "source": []
  }
 ],
 "metadata": {
  "kernelspec": {
   "display_name": "Python 3",
   "language": "python",
   "name": "python3"
  },
  "language_info": {
   "codemirror_mode": {
    "name": "ipython",
    "version": 3
   },
   "file_extension": ".py",
   "mimetype": "text/x-python",
   "name": "python",
   "nbconvert_exporter": "python",
   "pygments_lexer": "ipython3",
   "version": "3.11.11"
  }
 },
 "nbformat": 4,
 "nbformat_minor": 5
}
