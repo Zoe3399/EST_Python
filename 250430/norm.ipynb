{
 "cells": [
  {
   "cell_type": "code",
   "execution_count": 4,
   "id": "8b3ce222",
   "metadata": {},
   "outputs": [],
   "source": [
    "import numpy as np"
   ]
  },
  {
   "cell_type": "code",
   "execution_count": 5,
   "id": "6bf9bcde",
   "metadata": {},
   "outputs": [],
   "source": [
    "a = np.array([3,-4,1])"
   ]
  },
  {
   "cell_type": "code",
   "execution_count": 10,
   "id": "924e9838",
   "metadata": {},
   "outputs": [
    {
     "data": {
      "text/plain": [
       "np.int64(26)"
      ]
     },
     "execution_count": 10,
     "metadata": {},
     "output_type": "execute_result"
    }
   ],
   "source": [
    "# norm 구하기\n",
    "np.sum(a ** 2)"
   ]
  },
  {
   "cell_type": "code",
   "execution_count": 11,
   "id": "16963f02",
   "metadata": {},
   "outputs": [
    {
     "data": {
      "text/plain": [
       "np.float64(5.0990195135927845)"
      ]
     },
     "execution_count": 11,
     "metadata": {},
     "output_type": "execute_result"
    }
   ],
   "source": [
    "np.sqrt(np.sum(a ** 2))"
   ]
  },
  {
   "cell_type": "code",
   "execution_count": 12,
   "id": "045de4b1",
   "metadata": {},
   "outputs": [
    {
     "data": {
      "text/plain": [
       "np.float64(5.0990195135927845)"
      ]
     },
     "execution_count": 12,
     "metadata": {},
     "output_type": "execute_result"
    }
   ],
   "source": [
    "np.linalg.norm(a)"
   ]
  },
  {
   "cell_type": "code",
   "execution_count": 13,
   "id": "98fcfb8d",
   "metadata": {},
   "outputs": [],
   "source": [
    "# 벡터 norm 계산 함수\n",
    "def vec_norms(x):\n",
    "    L1_norm=np.sum(np.abs(x))\n",
    "    L2_norm=np.sqrt(np.sum(x**2))\n",
    "    Lmax_norm=np.max(np.abs(x))\n",
    "    return L1_norm, L2_norm, Lmax_norm"
   ]
  },
  {
   "cell_type": "code",
   "execution_count": 14,
   "id": "7b159996",
   "metadata": {},
   "outputs": [],
   "source": [
    "result = vec_norms(a)"
   ]
  },
  {
   "cell_type": "code",
   "execution_count": 15,
   "id": "c3b5b8b4",
   "metadata": {},
   "outputs": [
    {
     "data": {
      "text/plain": [
       "tuple"
      ]
     },
     "execution_count": 15,
     "metadata": {},
     "output_type": "execute_result"
    }
   ],
   "source": [
    "type(result)"
   ]
  },
  {
   "cell_type": "code",
   "execution_count": 16,
   "id": "d7f8dd06",
   "metadata": {},
   "outputs": [],
   "source": [
    "# norm 과 cos 유사도를 이용한 문서간 유사도 측정"
   ]
  },
  {
   "cell_type": "code",
   "execution_count": 17,
   "id": "c3ab6c77",
   "metadata": {},
   "outputs": [],
   "source": [
    "from numpy import dot\n",
    "from numpy.linalg import norm\n",
    "import numpy as np"
   ]
  },
  {
   "cell_type": "code",
   "execution_count": 18,
   "id": "f1a5e29a",
   "metadata": {},
   "outputs": [],
   "source": [
    "def cos_sim(A,B):\n",
    "    return dot(A,B)  (norm(A)*norm(B))"
   ]
  },
  {
   "cell_type": "code",
   "execution_count": 19,
   "id": "32f493a5",
   "metadata": {},
   "outputs": [],
   "source": [
    "doc1 = np.array([1,1,1,1,0])\n",
    "doc2 = np.array([1,0,1,0,1])\n",
    "doc3 = np.array([2,1,1,1,0])"
   ]
  },
  {
   "cell_type": "code",
   "execution_count": 23,
   "id": "2212ea14",
   "metadata": {},
   "outputs": [
    {
     "ename": "TypeError",
     "evalue": "'numpy.int64' object is not callable",
     "output_type": "error",
     "traceback": [
      "\u001b[31m---------------------------------------------------------------------------\u001b[39m",
      "\u001b[31mTypeError\u001b[39m                                 Traceback (most recent call last)",
      "\u001b[36mCell\u001b[39m\u001b[36m \u001b[39m\u001b[32mIn[23]\u001b[39m\u001b[32m, line 1\u001b[39m\n\u001b[32m----> \u001b[39m\u001b[32m1\u001b[39m \u001b[38;5;28mprint\u001b[39m(\u001b[43mcos_sim\u001b[49m\u001b[43m(\u001b[49m\u001b[43mdoc1\u001b[49m\u001b[43m,\u001b[49m\u001b[43m \u001b[49m\u001b[43mdoc2\u001b[49m\u001b[43m)\u001b[49m)\n",
      "\u001b[36mCell\u001b[39m\u001b[36m \u001b[39m\u001b[32mIn[18]\u001b[39m\u001b[32m, line 2\u001b[39m, in \u001b[36mcos_sim\u001b[39m\u001b[34m(A, B)\u001b[39m\n\u001b[32m      1\u001b[39m \u001b[38;5;28;01mdef\u001b[39;00m\u001b[38;5;250m \u001b[39m\u001b[34mcos_sim\u001b[39m(A,B):\n\u001b[32m----> \u001b[39m\u001b[32m2\u001b[39m     \u001b[38;5;28;01mreturn\u001b[39;00m \u001b[43mdot\u001b[49m\u001b[43m(\u001b[49m\u001b[43mA\u001b[49m\u001b[43m,\u001b[49m\u001b[43mB\u001b[49m\u001b[43m)\u001b[49m\u001b[43m  \u001b[49m\u001b[43m(\u001b[49m\u001b[43mnorm\u001b[49m\u001b[43m(\u001b[49m\u001b[43mA\u001b[49m\u001b[43m)\u001b[49m\u001b[43m*\u001b[49m\u001b[43mnorm\u001b[49m\u001b[43m(\u001b[49m\u001b[43mB\u001b[49m\u001b[43m)\u001b[49m\u001b[43m)\u001b[49m\n",
      "\u001b[31mTypeError\u001b[39m: 'numpy.int64' object is not callable"
     ]
    }
   ],
   "source": [
    "print(cos_sim(doc1, doc2))"
   ]
  },
  {
   "cell_type": "code",
   "execution_count": null,
   "id": "466a8856",
   "metadata": {},
   "outputs": [],
   "source": []
  }
 ],
 "metadata": {
  "kernelspec": {
   "display_name": "Python 3",
   "language": "python",
   "name": "python3"
  },
  "language_info": {
   "codemirror_mode": {
    "name": "ipython",
    "version": 3
   },
   "file_extension": ".py",
   "mimetype": "text/x-python",
   "name": "python",
   "nbconvert_exporter": "python",
   "pygments_lexer": "ipython3",
   "version": "3.11.11"
  }
 },
 "nbformat": 4,
 "nbformat_minor": 5
}
