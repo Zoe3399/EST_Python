{
 "cells": [
  {
   "cell_type": "code",
   "execution_count": 13,
   "id": "ece943c6",
   "metadata": {},
   "outputs": [
    {
     "name": "stdout",
     "output_type": "stream",
     "text": [
      "Requirement already satisfied: pandas in /Users/joy/Desktop/Git_RP/GitHub/EST_Python/.conda/lib/python3.11/site-packages (2.2.3)\n",
      "Collecting seaborn\n",
      "  Downloading seaborn-0.13.2-py3-none-any.whl.metadata (5.4 kB)\n",
      "Requirement already satisfied: matplotlib in /Users/joy/Desktop/Git_RP/GitHub/EST_Python/.conda/lib/python3.11/site-packages (3.10.1)\n",
      "Collecting scipy\n",
      "  Downloading scipy-1.15.2-cp311-cp311-macosx_14_0_arm64.whl.metadata (61 kB)\n",
      "Requirement already satisfied: numpy>=1.23.2 in /Users/joy/Desktop/Git_RP/GitHub/EST_Python/.conda/lib/python3.11/site-packages (from pandas) (2.2.5)\n",
      "Requirement already satisfied: python-dateutil>=2.8.2 in /Users/joy/Desktop/Git_RP/GitHub/EST_Python/.conda/lib/python3.11/site-packages (from pandas) (2.9.0.post0)\n",
      "Requirement already satisfied: pytz>=2020.1 in /Users/joy/Desktop/Git_RP/GitHub/EST_Python/.conda/lib/python3.11/site-packages (from pandas) (2025.2)\n",
      "Requirement already satisfied: tzdata>=2022.7 in /Users/joy/Desktop/Git_RP/GitHub/EST_Python/.conda/lib/python3.11/site-packages (from pandas) (2025.2)\n",
      "Requirement already satisfied: contourpy>=1.0.1 in /Users/joy/Desktop/Git_RP/GitHub/EST_Python/.conda/lib/python3.11/site-packages (from matplotlib) (1.3.2)\n",
      "Requirement already satisfied: cycler>=0.10 in /Users/joy/Desktop/Git_RP/GitHub/EST_Python/.conda/lib/python3.11/site-packages (from matplotlib) (0.12.1)\n",
      "Requirement already satisfied: fonttools>=4.22.0 in /Users/joy/Desktop/Git_RP/GitHub/EST_Python/.conda/lib/python3.11/site-packages (from matplotlib) (4.57.0)\n",
      "Requirement already satisfied: kiwisolver>=1.3.1 in /Users/joy/Desktop/Git_RP/GitHub/EST_Python/.conda/lib/python3.11/site-packages (from matplotlib) (1.4.8)\n",
      "Requirement already satisfied: packaging>=20.0 in /Users/joy/Desktop/Git_RP/GitHub/EST_Python/.conda/lib/python3.11/site-packages (from matplotlib) (25.0)\n",
      "Requirement already satisfied: pillow>=8 in /Users/joy/Desktop/Git_RP/GitHub/EST_Python/.conda/lib/python3.11/site-packages (from matplotlib) (11.2.1)\n",
      "Requirement already satisfied: pyparsing>=2.3.1 in /Users/joy/Desktop/Git_RP/GitHub/EST_Python/.conda/lib/python3.11/site-packages (from matplotlib) (3.2.3)\n",
      "Requirement already satisfied: six>=1.5 in /Users/joy/Desktop/Git_RP/GitHub/EST_Python/.conda/lib/python3.11/site-packages (from python-dateutil>=2.8.2->pandas) (1.17.0)\n",
      "Downloading seaborn-0.13.2-py3-none-any.whl (294 kB)\n",
      "Downloading scipy-1.15.2-cp311-cp311-macosx_14_0_arm64.whl (22.4 MB)\n",
      "\u001b[2K   \u001b[90m━━━━━━━━━━━━━━━━━━━━━━━━━━━━━━━━━━━━━━━━\u001b[0m \u001b[32m22.4/22.4 MB\u001b[0m \u001b[31m27.7 MB/s\u001b[0m eta \u001b[36m0:00:00\u001b[0ma \u001b[36m0:00:01\u001b[0m\n",
      "\u001b[?25hInstalling collected packages: scipy, seaborn\n",
      "Successfully installed scipy-1.15.2 seaborn-0.13.2\n",
      "Note: you may need to restart the kernel to use updated packages.\n"
     ]
    }
   ],
   "source": [
    "pip install pandas seaborn matplotlib scipy"
   ]
  },
  {
   "cell_type": "code",
   "execution_count": 15,
   "id": "ebb068c9",
   "metadata": {},
   "outputs": [],
   "source": [
    "import pandas as pd\n",
    "import matplotlib.pyplot as plt\n",
    "import seaborn as sns"
   ]
  },
  {
   "cell_type": "code",
   "execution_count": 16,
   "id": "2c657065",
   "metadata": {},
   "outputs": [],
   "source": [
    "# iris 데이터셋 로드\n",
    "iris = sns.load_dataset(\"iris\")\n"
   ]
  },
  {
   "cell_type": "code",
   "execution_count": 17,
   "id": "4562044e",
   "metadata": {},
   "outputs": [
    {
     "name": "stdout",
     "output_type": "stream",
     "text": [
      "   sepal_length  sepal_width  petal_length  petal_width species\n",
      "0           5.1          3.5           1.4          0.2  setosa\n",
      "1           4.9          3.0           1.4          0.2  setosa\n",
      "2           4.7          3.2           1.3          0.2  setosa\n",
      "3           4.6          3.1           1.5          0.2  setosa\n",
      "4           5.0          3.6           1.4          0.2  setosa\n"
     ]
    }
   ],
   "source": [
    "# 처음 5개 행 출력\n",
    "print(iris.head())"
   ]
  },
  {
   "cell_type": "code",
   "execution_count": 19,
   "id": "d5dd3917",
   "metadata": {},
   "outputs": [
    {
     "name": "stdout",
     "output_type": "stream",
     "text": [
      "       sepal_length  sepal_width  petal_length  petal_width\n",
      "count    150.000000   150.000000    150.000000   150.000000\n",
      "mean       5.843333     3.057333      3.758000     1.199333\n",
      "std        0.828066     0.435866      1.765298     0.762238\n",
      "min        4.300000     2.000000      1.000000     0.100000\n",
      "25%        5.100000     2.800000      1.600000     0.300000\n",
      "50%        5.800000     3.000000      4.350000     1.300000\n",
      "75%        6.400000     3.300000      5.100000     1.800000\n",
      "max        7.900000     4.400000      6.900000     2.500000\n",
      "            sepal_length  sepal_width  petal_length  petal_width\n",
      "species                                                         \n",
      "setosa             5.006        3.428         1.462        0.246\n",
      "versicolor         5.936        2.770         4.260        1.326\n",
      "virginica          6.588        2.974         5.552        2.026\n"
     ]
    }
   ],
   "source": [
    "# 컬럼별 요약 통계\n",
    "print(iris.describe())\n",
    "\n",
    "# 품종별 평균\n",
    "print(iris.groupby('species').mean())"
   ]
  },
  {
   "cell_type": "code",
   "execution_count": 21,
   "id": "70ffb830",
   "metadata": {},
   "outputs": [
    {
     "name": "stdout",
     "output_type": "stream",
     "text": [
      "              sepal_length  sepal_width  petal_length  petal_width\n",
      "sepal_length      1.000000    -0.117570      0.871754     0.817941\n",
      "sepal_width      -0.117570     1.000000     -0.428440    -0.366126\n",
      "petal_length      0.871754    -0.428440      1.000000     0.962865\n",
      "petal_width       0.817941    -0.366126      0.962865     1.000000\n"
     ]
    }
   ],
   "source": [
    "# 숫자형 컬럼만 추출해서 상관관계 분석\n",
    "correlation = iris.select_dtypes(include=['float64', 'int64']).corr()\n",
    "print(correlation)"
   ]
  },
  {
   "cell_type": "code",
   "execution_count": 23,
   "id": "251e8d87",
   "metadata": {},
   "outputs": [
    {
     "data": {
      "image/png": "[encoded data removed]",
      "text/plain": [
       "<Figure size 640x480 with 2 Axes>"
      ]
     },
     "metadata": {},
     "output_type": "display_data"
    }
   ],
   "source": [
    "import seaborn as sns\n",
    "import matplotlib.pyplot as plt\n",
    "\n",
    "sns.heatmap(correlation, annot=True, cmap='coolwarm')\n",
    "plt.title(\"Iris Feature Correlation\")\n",
    "plt.show()"
   ]
  },
  {
   "cell_type": "markdown",
   "id": "bedd6708",
   "metadata": {},
   "source": [
    "### 무작위 표본 추출 (랜덤 샘플링)\n",
    "• n: 추출할 샘플 수 <br>\n",
    "• random_state: 재현 가능하도록 시드 고정"
   ]
  },
  {
   "cell_type": "code",
   "execution_count": 26,
   "id": "32911ac3",
   "metadata": {},
   "outputs": [
    {
     "name": "stdout",
     "output_type": "stream",
     "text": [
      "     sepal_length  sepal_width  petal_length  petal_width     species\n",
      "73            6.1          2.8           4.7          1.2  versicolor\n",
      "18            5.7          3.8           1.7          0.3      setosa\n",
      "118           7.7          2.6           6.9          2.3   virginica\n",
      "78            6.0          2.9           4.5          1.5  versicolor\n",
      "76            6.8          2.8           4.8          1.4  versicolor\n"
     ]
    }
   ],
   "source": [
    "sample = iris.sample(n=30, random_state=42) # 랜덤 샘플 30개 추출, random_state 고정\n",
    "print(sample.head()) # 샘플 데이터 출력"
   ]
  },
  {
   "cell_type": "markdown",
   "id": "1ba0323f",
   "metadata": {},
   "source": [
    "### 계층적 표본 추출 (Stratified Sampling)\n",
    "- species 품종 비율을 유지하면서 표본 추출할 수 있음."
   ]
  },
  {
   "cell_type": "code",
   "execution_count": 28,
   "id": "7da80808",
   "metadata": {},
   "outputs": [
    {
     "name": "stdout",
     "output_type": "stream",
     "text": [
      "    sepal_length  sepal_width  petal_length  petal_width species\n",
      "13           4.3          3.0           1.1          0.1  setosa\n",
      "39           5.1          3.4           1.5          0.2  setosa\n",
      "30           4.8          3.1           1.6          0.2  setosa\n",
      "45           4.8          3.0           1.4          0.3  setosa\n",
      "17           5.1          3.5           1.4          0.3  setosa\n",
      "48           5.3          3.7           1.5          0.2  setosa\n",
      "26           5.0          3.4           1.6          0.4  setosa\n",
      "25           5.0          3.0           1.6          0.2  setosa\n",
      "32           5.2          4.1           1.5          0.1  setosa\n",
      "19           5.1          3.8           1.5          0.3  setosa\n"
     ]
    },
    {
     "name": "stderr",
     "output_type": "stream",
     "text": [
      "/var/folders/vz/_88n189s37g3f6cvqm98x9m00000gn/T/ipykernel_12292/1933439054.py:2: DeprecationWarning: DataFrameGroupBy.apply operated on the grouping columns. This behavior is deprecated, and in a future version of pandas the grouping columns will be excluded from the operation. Either pass `include_groups=False` to exclude the groupings or explicitly select the grouping columns after groupby to silence this warning.\n",
      "  sample_per_species = iris.groupby('species', group_keys=False).apply(lambda x: x.sample(n=10, random_state=42))\n"
     ]
    }
   ],
   "source": [
    "# 각 품종에서 10개씩 샘플링\n",
    "sample_per_species = iris.groupby('species', group_keys=False).apply(lambda x: x.sample(n=10, random_state=42))\n",
    "print(sample_per_species.head(10)) # 샘플 데이터 출력"
   ]
  },
  {
   "cell_type": "markdown",
   "id": "3f3d1ac9",
   "metadata": {},
   "source": [
    "### 비복원/복원 추출 옵션\n",
    "- 비복원 추출 (중복 없이) : 기본값 <br>\n",
    "- 복원 추출 (중복 가능)"
   ]
  },
  {
   "cell_type": "code",
   "execution_count": 30,
   "id": "c9c6fb26",
   "metadata": {},
   "outputs": [
    {
     "name": "stdout",
     "output_type": "stream",
     "text": [
      "     sepal_length  sepal_width  petal_length  petal_width     species\n",
      "102           7.1          3.0           5.9          2.1   virginica\n",
      "92            5.8          2.6           4.0          1.2  versicolor\n",
      "14            5.8          4.0           1.2          0.2      setosa\n",
      "106           4.9          2.5           4.5          1.7   virginica\n",
      "71            6.1          2.8           4.0          1.3  versicolor\n",
      "20            5.4          3.4           1.7          0.2      setosa\n",
      "102           7.1          3.0           5.9          2.1   virginica\n",
      "121           5.6          2.8           4.9          2.0   virginica\n",
      "74            6.4          2.9           4.3          1.3  versicolor\n",
      "87            6.3          2.3           4.4          1.3  versicolor\n"
     ]
    }
   ],
   "source": [
    "# 복원 추출(replacement=True)로 30개 샘플링\n",
    "replacement_sample = iris.sample(n=30, replace=True, random_state=42)\n",
    "print(replacement_sample.head(10)) # 샘플 데이터 출력"
   ]
  },
  {
   "cell_type": "markdown",
   "id": "2dedf676",
   "metadata": {},
   "source": [
    "### 샘플 분포 시각화 (계층적 표본 추출(stratified sampling))\n",
    "• x축: 품종(species) – setosa, versicolor, virginica <br>\n",
    "• y축: 표본 수(count) – 각각 10개씩 <br>\n",
    "• 각 막대의 높이가 같다는 건, 각 품종에서 동일한 개수(10개)씩 표본을 추출했다는 뜻"
   ]
  },
  {
   "cell_type": "code",
   "execution_count": 31,
   "id": "1164416f",
   "metadata": {},
   "outputs": [
    {
     "data": {
      "image/png": "[encoded data removed]",
      "text/plain": [
       "<Figure size 640x480 with 1 Axes>"
      ]
     },
     "metadata": {},
     "output_type": "display_data"
    }
   ],
   "source": [
    "import seaborn as sns\n",
    "import matplotlib.pyplot as plt\n",
    "# 산점도 행렬\n",
    "sns.countplot(data = sample_per_species, x='species')\n",
    "plt.title(\"Sample Species Distribution\")\n",
    "plt.show()"
   ]
  },
  {
   "cell_type": "code",
   "execution_count": null,
   "id": "e7d94192",
   "metadata": {},
   "outputs": [],
   "source": []
  },
  {
   "cell_type": "code",
   "execution_count": null,
   "id": "f32be6b0",
   "metadata": {},
   "outputs": [],
   "source": []
  }
 ],
 "metadata": {
  "kernelspec": {
   "display_name": "Python 3",
   "language": "python",
   "name": "python3"
  },
  "language_info": {
   "codemirror_mode": {
    "name": "ipython",
    "version": 3
   },
   "file_extension": ".py",
   "mimetype": "text/x-python",
   "name": "python",
   "nbconvert_exporter": "python",
   "pygments_lexer": "ipython3",
   "version": "3.11.11"
  }
 },
 "nbformat": 4,
 "nbformat_minor": 5
}
