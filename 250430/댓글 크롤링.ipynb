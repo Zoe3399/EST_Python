{
 "cells": [
  {
   "cell_type": "markdown",
   "id": "1816521f",
   "metadata": {},
   "source": [
    "### 댓글 수집 "
   ]
  },
  {
   "cell_type": "markdown",
   "id": "9eb32130",
   "metadata": {},
   "source": [
    "### selenium 없이 댓글 크롤링"
   ]
  },
  {
   "cell_type": "code",
   "execution_count": 3,
   "id": "ab58acc9",
   "metadata": {},
   "outputs": [
    {
     "name": "stdout",
     "output_type": "stream",
     "text": [
      "1. 미국이였음 니들은 망했다.\n",
      "2. 정부가 문제를 키운것이다...국민들 정보유출 그동안 많았으나  국민을위한 정부가 아니고 기업을 위한 정부노릇을 하니 과징금이 적게 하니 기업들이 정보보안을 거의 안하는것이다....정부가 문제다...그러나 이번에는 국민들 피해 모두 skt가 보상해야 할것이다...\n",
      "3. 휴대폰 신규개통을 대면 본인확인으로 하라!\n",
      "보이스피싱의 90퍼센트가 휴대폰 불법개통으로 이루어진다!\n",
      "4. 이건 뭐 또 나라에 세금내면 2500만명의 국민들 정보유출 쯤이야 그냥 넘어가겠지?ㅠㅠ\n",
      "5. 디지털선두주자라면서.. 이지경이다 뭐냐..\n",
      "6. 엥 왜 유심을 15만원 주고 삼? 그냥 번호이동 하고 말지. 해킹 경로도 파악안되어서 바꿔봐야 언제 또 털릴지도 모르는데...\n",
      "7. 민주당 이 시키들은 털린놈만 잡지 털어간놈한테는 찍소리도 못함\n",
      "8. 대선이 걱정이네.\n"
     ]
    }
   ],
   "source": [
    "import requests\n",
    "import json\n",
    "\n",
    "# 뉴스 기사 정보\n",
    "office_id = \"079\"\n",
    "article_id = \"0004019637\"\n",
    "page = 1  # 댓글 페이지\n",
    "\n",
    "# API URL\n",
    "url = f\"https://apis.naver.com/commentBox/cbox/web_naver_list_jsonp.json?ticket=news&templateId=default&pool=cbox5&lang=ko&country=KR&objectId=news{office_id},{article_id}&pageSize=20&page={page}&sort=newest\"\n",
    "\n",
    "# 헤더 설정 (Referer가 없으면 차단될 수 있음)\n",
    "headers = {\n",
    "    \"referer\": f\"https://n.news.naver.com/article/{office_id}/{article_id}\",\n",
    "    \"user-agent\": \"Mozilla/5.0\"\n",
    "}\n",
    "\n",
    "# 요청\n",
    "res = requests.get(url, headers=headers)\n",
    "\n",
    "# JSONP 형태 → 괄호 제거\n",
    "json_str = res.text[res.text.find(\"(\") + 1 : res.text.rfind(\")\")]\n",
    "data = json.loads(json_str)\n",
    "\n",
    "# 댓글 리스트 추출\n",
    "comments = data['result']['commentList']\n",
    "\n",
    "# 출력\n",
    "for i, comment in enumerate(comments, 1):\n",
    "    print(f\"{i}. {comment['contents']}\")"
   ]
  },
  {
   "cell_type": "markdown",
   "id": "1f686d34",
   "metadata": {},
   "source": [
    "### selenium 사용해서 댓글 크롤링\n",
    "- 댓글 더보기 자동 클릭해서 댓글 전체 수집을 위함."
   ]
  },
  {
   "cell_type": "code",
   "execution_count": 11,
   "id": "2f2a95d4",
   "metadata": {},
   "outputs": [
    {
     "name": "stdout",
     "output_type": "stream",
     "text": [
      "Google\n"
     ]
    }
   ],
   "source": [
    "# 테스트\n",
    "from selenium import webdriver\n",
    "from selenium.webdriver.chrome.service import Service\n",
    "\n",
    "service = Service(\"/usr/local/bin/chromedriver\")\n",
    "driver = webdriver.Chrome(service=service)\n",
    "driver.get(\"https://www.google.com\")\n",
    "print(driver.title)\n",
    "driver.quit()"
   ]
  },
  {
   "cell_type": "code",
   "execution_count": 12,
   "id": "51072090",
   "metadata": {},
   "outputs": [
    {
     "name": "stdout",
     "output_type": "stream",
     "text": [
      "총 댓글 수: 5개\n",
      "\n",
      "1. 미국이였음 니들은 망했다.\n",
      "2. 정부가 문제를 키운것이다...국민들 정보유출 그동안 많았으나 국민을위한 정부가 아니고 기업을 위한 정부노릇을 하니 과징금이 적게 하니 기업들이 정보보안을 거의 안하는것이다....정부가 문제다...그러나 이번에는 국민들 피해 모두 skt가 보상해야 할것이다...\n",
      "3. 휴대폰 신규개통을 대면 본인확인으로 하라!보이스피싱의 90퍼센트가 휴대폰 불법개통으로 이루어진다!\n",
      "4. 망하게 해줍시다. 전국민 KT랑 LG로 갈아타야 다신 이런 일 안 생깁니다.\n",
      "5. 이건 뭐 또 나라에 세금내면 2500만명의 국민들 정보유출 쯤이야 그냥 넘어가겠지?ㅠㅠ\n"
     ]
    }
   ],
   "source": [
    "from selenium import webdriver\n",
    "from selenium.webdriver.chrome.service import Service\n",
    "from selenium.webdriver.common.by import By\n",
    "from selenium.webdriver.support.ui import WebDriverWait\n",
    "from selenium.webdriver.support import expected_conditions as EC\n",
    "import time\n",
    "\n",
    "# 크롬 드라이버 경로 설정\n",
    "service = Service(\"/usr/local/bin/chromedriver\")\n",
    "options = webdriver.ChromeOptions()\n",
    "\n",
    "# 모바일 사용자 에이전트 설정\n",
    "options.add_argument(\"user-agent=Mozilla/5.0 (iPhone; CPU iPhone OS 15_0 like Mac OS X) AppleWebKit/605.1.15 (KHTML, like Gecko) Version/15.0 Mobile/15E148 Safari/604.1\")\n",
    "\n",
    "# 드라이버 실행\n",
    "driver = webdriver.Chrome(service=service, options=options)\n",
    "url = \"https://m.news.naver.com/article/079/0004019637\"\n",
    "driver.get(url)\n",
    "\n",
    "# 페이지 로딩 대기\n",
    "time.sleep(3)\n",
    "\n",
    "# '더보기' 버튼 계속 누르기\n",
    "while True:\n",
    "    try:\n",
    "        more_btn = WebDriverWait(driver, 2).until(\n",
    "            EC.element_to_be_clickable((By.CLASS_NAME, \"u_cbox_btn_more\"))\n",
    "        )\n",
    "        more_btn.click()\n",
    "        time.sleep(1)\n",
    "    except:\n",
    "        break  # 더 이상 버튼 없으면 종료\n",
    "\n",
    "# 댓글 추출\n",
    "comments = driver.find_elements(By.CLASS_NAME, \"u_cbox_contents\")\n",
    "\n",
    "# 출력\n",
    "print(f\"총 댓글 수: {len(comments)}개\\n\")\n",
    "for idx, c in enumerate(comments, 1):\n",
    "    print(f\"{idx}. {c.text.strip()}\")\n",
    "\n",
    "driver.quit()"
   ]
  },
  {
   "cell_type": "code",
   "execution_count": null,
   "id": "8647c849",
   "metadata": {},
   "outputs": [],
   "source": []
  }
 ],
 "metadata": {
  "kernelspec": {
   "display_name": "Python 3",
   "language": "python",
   "name": "python3"
  },
  "language_info": {
   "codemirror_mode": {
    "name": "ipython",
    "version": 3
   },
   "file_extension": ".py",
   "mimetype": "text/x-python",
   "name": "python",
   "nbconvert_exporter": "python",
   "pygments_lexer": "ipython3",
   "version": "3.11.11"
  }
 },
 "nbformat": 4,
 "nbformat_minor": 5
}
