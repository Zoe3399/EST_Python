{
 "cells": [
  {
   "cell_type": "markdown",
   "id": "d94c05a3",
   "metadata": {},
   "source": [
    "# 네이버 뉴스 크롤링"
   ]
  },
  {
   "cell_type": "markdown",
   "id": "b3212882",
   "metadata": {},
   "source": [
    "### 함수 만들어서 호출해보기"
   ]
  },
  {
   "cell_type": "code",
   "execution_count": 4,
   "id": "538f6aeb",
   "metadata": {},
   "outputs": [],
   "source": [
    "import json  # JSON 파일 저장을 위한 모듈\n",
    "\n",
    "def main():  # 메인 함수 정의\n",
    "    node = 'news'  # [CODE 0] 네이버 오픈 API 검색 카테고리 설정 (news = 뉴스 검색)\n",
    "    \n",
    "    srcText = input('검색어를 입력하세요: ')  # [CODE 1] 사용자로부터 검색어 입력 받기\n",
    "    cnt = 0  # 수집된 뉴스 개수 카운트\n",
    "    jsonResult = []  # 뉴스 데이터를 저장할 리스트\n",
    "\n",
    "    # [CODE 2] 네이버 뉴스 검색 API 호출: 1페이지(start=1), 최대 100개 가져오기\n",
    "    jsonResponse = getNaverSearch(node, srcText, 1, 100)\n",
    "    total = jsonResponse['total']  # 전체 검색 결과 수 추출\n",
    "\n",
    "    # [반복] 검색 결과가 존재하고, 한 페이지에 표시된 결과 수가 0이 아닐 때 반복\n",
    "    while ((jsonResponse is not None) and (jsonResponse['display'] != 0)):\n",
    "        for post in jsonResponse['items']:  # 검색 결과 중 각 뉴스 항목 반복\n",
    "            cnt += 1  # 뉴스 건수 카운트 증가\n",
    "            getPostData(post, jsonResult, cnt)  # [CODE 3] 뉴스 항목을 파싱하여 리스트에 저장\n",
    "\n",
    "        # 다음 검색을 위한 시작 위치 계산\n",
    "        start = jsonResponse['start'] + jsonResponse['display']\n",
    "\n",
    "        # 다음 페이지 뉴스 데이터 요청\n",
    "        jsonResponse = getNaverSearch(node, srcText, start, 100)\n",
    "\n",
    "    # 전체 검색 결과 수 출력\n",
    "    print('전체 검색 : %d 건' % total)\n",
    "\n",
    "    # 수집한 데이터를 JSON 파일로 저장\n",
    "    with open('%s_naver_%s.json' % (srcText, node), 'w', encoding='utf8') as outfile:\n",
    "        # JSON 파일 문자열로 변환 (정렬 및 인코딩 옵션 포함)\n",
    "        jsonFile = json.dumps(jsonResult, indent=4, sort_keys=True, ensure_ascii=False)\n",
    "        outfile.write(jsonFile)  # 파일로 저장\n",
    "\n",
    "    # 수집 완료 메시지 출력\n",
    "    print(\"가져온 데이터 : %d 건\" % cnt)\n",
    "    print('%s_naver_%s.json SAVED' % (srcText, node))"
   ]
  },
  {
   "cell_type": "markdown",
   "id": "096b1ceb",
   "metadata": {},
   "source": [
    "---"
   ]
  },
  {
   "cell_type": "markdown",
   "id": "e6019240",
   "metadata": {},
   "source": [
    "### 내 방식대로 해보기"
   ]
  },
  {
   "cell_type": "markdown",
   "id": "b5e1f90f",
   "metadata": {},
   "source": [
    "### 1. 요청 URL만들기"
   ]
  },
  {
   "cell_type": "code",
   "execution_count": 40,
   "id": "8369cccc",
   "metadata": {},
   "outputs": [],
   "source": [
    "# 필요한 라이브러리 불러오기\n",
    "import urllib.request    # URL 요청을 보내기 위한 모듈\n",
    "import urllib.parse      # 검색어(한글 등)를 URL 인코딩할 때 필요\n",
    "import json              # JSON 데이터를 다루기 위한 모듈"
   ]
  },
  {
   "cell_type": "code",
   "execution_count": 41,
   "id": "3052fbbc",
   "metadata": {},
   "outputs": [],
   "source": [
    "# [반드시 입력] 네이버 개발자 센터에서 발급받은 값 입력\n",
    "client_id = \"YofuzhxNNw_eo4yEXbea\"  # 네이버 애플리케이션의 클라이언트 ID\n",
    "client_secret = \"XbvYKiWU37\"        # 네이버 애플리케이션의 클라이언트 ID"
   ]
  },
  {
   "cell_type": "code",
   "execution_count": 42,
   "id": "ca3d825b",
   "metadata": {},
   "outputs": [],
   "source": [
    "# 검색 설정\n",
    "query = input('검색어 입력 : ') # 검색어 입력\n",
    "node = input('검색 API 대상 입력 : ex) news, blog, book') # # 검색 API 대상: news, blog, book 등\n",
    "start = 1                    # 검색 시작 위치 (1부터 시작)\n",
    "display = 10                 # 한 번에 가져올 대상(ex.뉴스)의 개수 (최대 100개까지 가능)\n",
    "\n",
    "# 검색어를 URL 인코딩하고, 전체 요청 URL 구성\n",
    "url = f\"https://openapi.naver.com/v1/search/{node}.json?query={urllib.parse.quote(query)}&start={start}&display={display}\""
   ]
  },
  {
   "cell_type": "code",
   "execution_count": 43,
   "id": "e7bbc8c1",
   "metadata": {},
   "outputs": [],
   "source": [
    "# API 요청을 위한 Request 객체 생성\n",
    "request = urllib.request.Request(url)"
   ]
  },
  {
   "cell_type": "code",
   "execution_count": 44,
   "id": "315d010b",
   "metadata": {},
   "outputs": [],
   "source": [
    "# 요청 헤더에 클라이언트 ID와 시크릿 추가 (인증용)\n",
    "request.add_header(\"X-Naver-Client-Id\", client_id)\n",
    "request.add_header(\"X-Naver-Client-Secret\", client_secret)"
   ]
  },
  {
   "cell_type": "code",
   "execution_count": 45,
   "id": "340554c2",
   "metadata": {},
   "outputs": [
    {
     "name": "stdout",
     "output_type": "stream",
     "text": [
      "200\n"
     ]
    }
   ],
   "source": [
    "# 요청 내보내고 응답 받기\n",
    "response = urllib.request.urlopen(request)\n",
    "rescode = response.getcode() # 응답 코드 확인 (200이면 성공)\n",
    "print(rescode)\n",
    "# 꼭 200일때만 다음으로 넘어가기!\n",
    "# 아닐 경우 예외처리 안해둬서 인증 실패 시 노트북 중단돰."
   ]
  },
  {
   "cell_type": "code",
   "execution_count": 46,
   "id": "3a326abd",
   "metadata": {},
   "outputs": [],
   "source": [
    "# 응답 본문(바이트)을 문자열로 디코딩하고 JSON으로 파싱\n",
    "result = json.loads(response.read().decode('utf-8'))"
   ]
  },
  {
   "cell_type": "markdown",
   "id": "f55d89e9",
   "metadata": {},
   "source": [
    "### 3. 크롤링 결과 출력"
   ]
  },
  {
   "cell_type": "code",
   "execution_count": 47,
   "id": "457540b7",
   "metadata": {},
   "outputs": [
    {
     "name": "stdout",
     "output_type": "stream",
     "text": [
      "[1] <b>영화</b> &lt;<b>야당</b>&gt; 관람 <b>후기</b> - 배우들의 하드캐리로 끝까지 몰입한... \n",
      "시사회 <b>후기</b>가 꽤 괜찮다는 소식에 결국 극장을 찾게 되었어요! 사진 출처 : &lt;<b>야당</b>&gt; 공식 홈페이지 &lt;<b>야당</b>&gt;은 대한민국 마약 수사의 이면을 다룬 범죄 액션 <b>영화</b>로~ 수사기관과 거래하는 브로커, 이른바 '<b>야당</b>... \n",
      "https://blog.naver.com/2_children/223848984044\n",
      "\n",
      "[2] 끝까지 쫄깃했던 <b>영화</b> '<b>야당</b>' <b>후기</b>(스포 없음)\n",
      "안녕하세요 오래간만에 <b>영화</b>관에서 재미있게 관람한 <b>영화</b> '<b>야당</b>' <b>후기</b>로 돌아왔어요. 스포 없습니다. 먼저 오리지널 티켓. 강하늘, 유해진이 나온다는 정도만 알고 정말 아~~무 정보도 없이 갔는데요. <b>영화</b>... \n",
      "https://blog.naver.com/pinkatena-/223848459516\n",
      "\n",
      "[3] <b>영화</b> <b>야당</b> 관람평 평점 상영일정 <b>후기</b> 리뷰 쿠키\n",
      "<b>영화</b> <b>야당</b> <b>후기</b>에서 먼저 말씀드리고 싶은 건 수위는 보통인데(관람등급이 청소년관람불가인 걸 감안하고) 그와 좀 다른 측면에서 예를 들면 차가 일부러 사람을 친 뒤에 굳이 아무렇지 않게 다리를 한번 더... \n",
      "https://blog.naver.com/hyunjee1110/223839052093\n",
      "\n",
      "[4] <b>영화</b> <b>야당</b> 정보와 <b>후기</b>, 출연진, 관람평, 뜻, 쿠키 - 한국 범죄 액션\n",
      "내부자들은 재벌과 권력가에게 이용만 당하고 버려진 거물 깡패가, 하급 검사와 손잡고 높으신 분들께 복수하는 짜릿한 이야기를 그린 작품입니다. 한국 범죄 액션 <b>영화</b> <b>야당</b> <b>후기</b>, 정보, 관람평을 마치겠습니다.\n",
      "https://blog.naver.com/fine1177/223836996075\n",
      "\n",
      "[5] <b>영화</b> <b>야당</b> VIP 시사회 <b>후기</b> 감상평 솔직 리뷰 (현재상영작)\n",
      "<b>영화</b>가 끝난 후, 마음에 남은 문장 하나 <b>영화</b> <b>야당</b>의 <b>후기</b>를 한 문장으로 요약한다면, 저는 이 문장이 가장 잘 어울린다고 생각해요. '선과 악', '옳고 그름'이라는 기준보다 사람을 움직이는 건 훨씬 더 복잡한... \n",
      "https://blog.naver.com/taenalife/223834736471\n",
      "\n",
      "[6] <b>영화</b> 『<b>야당</b>(2025)』  관람 <b>후기</b>, 줄거리\n",
      "10) #<b>영화</b>리뷰 #리뷰 #<b>영화</b> #<b>영화후기</b> #<b>후기</b> #리뷰<b>후기</b> #movie #review #moviereview #<b>야당</b> #<b>야당</b>리뷰 #<b>영화</b><b>야당</b>리뷰 #<b>야당</b>줄거리 #<b>야당</b>별점 #<b>야당</b>쿠키 #<b>영화</b><b>야당</b>줄거리 #<b>영화</b><b>야당</b>쿠키 #<b>영화</b><b>야당</b>별점 #<b>영화</b><b>야당</b><b>후기</b>... \n",
      "https://blog.naver.com/hikari701/223836797072\n",
      "\n",
      "[7] <b>야당 영화</b> 관람 <b>후기</b>, 시원한 액션과 반전 묘미 (ft. 쿠키 있음)\n",
      "네이버 <b>영화</b> <b>야당</b>, 관람 <b>후기</b> (스포 X) 앞으로 보실 분들을 위해 스포 없이 개인적인 생각만 간략히 말씀드리도록 하겠습니다. 주인장은 크게 ①연기력, ②반전 각본, ③시원한 연출 이렇게 3가지 부분에서... \n",
      "https://blog.naver.com/next200208/223848490655\n",
      "\n",
      "[8] 『<b>야당</b>』 <b>영화 후기</b>\n",
      "바로 <b>후기</b>부터 시작한다. <b>야당</b>이 뭐지? <b>영화</b>를 보기 전 제목만 보고선 나는 정치에 관련된 <b>영화</b>인 줄 알았다. (여당 <b>야당</b>할때 그거) 그런데 트레일러를 보니 전혀 다른 느낌이었는데, 찾아보니 '수사기관 등에... \n",
      "https://blog.naver.com/the-gamers/223850566545\n",
      "\n",
      "[9] [<b>영화</b> <b>야당</b> <b>후기</b>/쿠키] 의식의 흐름대로 적어보는 <b>후기</b> 및 TMI... \n",
      "하구요 &lt; <b>영화</b> <b>야당</b> 짧은 <b>후기</b> + 관련 알아두면 좋은 이야기 &gt; (이하 쓰다보니 반말로...) 원래 <b>영화</b>를 보기전에는 스포 당할까봐 가능하면 <b>영화</b>에 대한 정보를 안 찾아보는 편임 그래서 강하늘 배우가 처음에... \n",
      "https://blog.naver.com/pdongsoo/223841568475\n",
      "\n",
      "[10] <b>야당 영화 후기</b>\n",
      "주말에 <b>야당 영화</b> 보고 왔어요 오래간만에 <b>영화</b>를 볼까 하고 찾아봤더니 제가 좋아하는 배우들이... 부린다 <b>후기</b> 일단 액션이 너무 좋았고 내가 잔인한 장면을 잘 못 봐서 그런지 내 입장에서는 조금... \n",
      "https://blog.naver.com/djawlgid11/223843143173\n",
      "\n"
     ]
    }
   ],
   "source": [
    "# 받아온 뉴스 데이터 출력\n",
    "for idx, item in enumerate(result['items'], 1):\n",
    "    print(f\"[{idx}] {item['title']}\") # node 제목 출력 (HTML 태그 포함 될 수 있음)\n",
    "    print(item['description'])        # node 요약 설명\n",
    "    print(item['link'])               # node 링크\n",
    "    print()                           # 줄바꿈"
   ]
  },
  {
   "cell_type": "code",
   "execution_count": null,
   "id": "1b1871d0",
   "metadata": {},
   "outputs": [],
   "source": []
  }
 ],
 "metadata": {
  "kernelspec": {
   "display_name": "Python 3",
   "language": "python",
   "name": "python3"
  },
  "language_info": {
   "codemirror_mode": {
    "name": "ipython",
    "version": 3
   },
   "file_extension": ".py",
   "mimetype": "text/x-python",
   "name": "python",
   "nbconvert_exporter": "python",
   "pygments_lexer": "ipython3",
   "version": "3.11.11"
  }
 },
 "nbformat": 4,
 "nbformat_minor": 5
}
