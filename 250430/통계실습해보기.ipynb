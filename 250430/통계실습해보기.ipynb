{
 "cells": [
  {
   "cell_type": "code",
   "execution_count": 1,
   "id": "989e610e",
   "metadata": {},
   "outputs": [],
   "source": [
    "import pandas as pd"
   ]
  },
  {
   "cell_type": "code",
   "execution_count": 5,
   "id": "b23b4a6c",
   "metadata": {},
   "outputs": [],
   "source": [
    "df = pd.read_excel(\"/Users/joy/Desktop/통계.csv.xlsx\")"
   ]
  },
  {
   "cell_type": "code",
   "execution_count": 6,
   "id": "cbd5095d",
   "metadata": {},
   "outputs": [
    {
     "data": {
      "text/html": [
       "<div>\n",
       "<style scoped>\n",
       "    .dataframe tbody tr th:only-of-type {\n",
       "        vertical-align: middle;\n",
       "    }\n",
       "\n",
       "    .dataframe tbody tr th {\n",
       "        vertical-align: top;\n",
       "    }\n",
       "\n",
       "    .dataframe thead th {\n",
       "        text-align: right;\n",
       "    }\n",
       "</style>\n",
       "<table border=\"1\" class=\"dataframe\">\n",
       "  <thead>\n",
       "    <tr style=\"text-align: right;\">\n",
       "      <th></th>\n",
       "      <th>x</th>\n",
       "    </tr>\n",
       "  </thead>\n",
       "  <tbody>\n",
       "    <tr>\n",
       "      <th>0</th>\n",
       "      <td>61</td>\n",
       "    </tr>\n",
       "    <tr>\n",
       "      <th>1</th>\n",
       "      <td>59</td>\n",
       "    </tr>\n",
       "    <tr>\n",
       "      <th>2</th>\n",
       "      <td>60</td>\n",
       "    </tr>\n",
       "    <tr>\n",
       "      <th>3</th>\n",
       "      <td>67</td>\n",
       "    </tr>\n",
       "    <tr>\n",
       "      <th>4</th>\n",
       "      <td>53</td>\n",
       "    </tr>\n",
       "  </tbody>\n",
       "</table>\n",
       "</div>"
      ],
      "text/plain": [
       "    x\n",
       "0  61\n",
       "1  59\n",
       "2  60\n",
       "3  67\n",
       "4  53"
      ]
     },
     "execution_count": 6,
     "metadata": {},
     "output_type": "execute_result"
    }
   ],
   "source": [
    "df"
   ]
  },
  {
   "cell_type": "code",
   "execution_count": 8,
   "id": "6f78e7ea",
   "metadata": {},
   "outputs": [
    {
     "data": {
      "text/plain": [
       "np.float64(60.0)"
      ]
     },
     "execution_count": 8,
     "metadata": {},
     "output_type": "execute_result"
    }
   ],
   "source": [
    "# 평균 구하기\n",
    "mean_x = df['x'].mean()\n",
    "mean_x"
   ]
  },
  {
   "cell_type": "code",
   "execution_count": 9,
   "id": "54965448",
   "metadata": {},
   "outputs": [
    {
     "data": {
      "text/plain": [
       "np.float64(60.0)"
      ]
     },
     "execution_count": 9,
     "metadata": {},
     "output_type": "execute_result"
    }
   ],
   "source": [
    "# 중앙값 구하기\n",
    "medin_x = df['x'].median()\n",
    "medin_x"
   ]
  },
  {
   "cell_type": "code",
   "execution_count": 11,
   "id": "05c192c6",
   "metadata": {},
   "outputs": [
    {
     "data": {
      "text/plain": [
       "np.float64(5.0)"
      ]
     },
     "execution_count": 11,
     "metadata": {},
     "output_type": "execute_result"
    }
   ],
   "source": [
    "# 표준편차 구하기\n",
    "std_x = df['x'].std()\n",
    "std_x"
   ]
  },
  {
   "cell_type": "code",
   "execution_count": 12,
   "id": "08965d78",
   "metadata": {},
   "outputs": [],
   "source": [
    "# 분산 구하기\n",
    "var_x = df['x'].var()"
   ]
  },
  {
   "cell_type": "code",
   "execution_count": 15,
   "id": "b37fb17d",
   "metadata": {},
   "outputs": [
    {
     "name": "stdout",
     "output_type": "stream",
     "text": [
      "53\n",
      "67\n"
     ]
    }
   ],
   "source": [
    "# 최소값, 최대값\n",
    "min_x = df['x'].min()\n",
    "max_x = df['x'].max()\n",
    "\n",
    "print(min_x)\n",
    "print(max_x)"
   ]
  },
  {
   "cell_type": "code",
   "execution_count": 17,
   "id": "863ef87b",
   "metadata": {},
   "outputs": [
    {
     "name": "stdout",
     "output_type": "stream",
     "text": [
      "59.0\n",
      "61.0\n"
     ]
    }
   ],
   "source": [
    "# 사분위수 구하기\n",
    "q1 = df['x'].quantile(0.25)\n",
    "q3 = df['x'].quantile(0.75)\n",
    "\n",
    "print(q1)\n",
    "print(q3)"
   ]
  },
  {
   "cell_type": "markdown",
   "id": "0f5a66fe",
   "metadata": {},
   "source": [
    "---\n",
    "**사분위수(Quartile)** ? \n",
    "- 데이터를 네 개의 구간으로 나누는 기준점\n",
    "- 주로 데이터의 분포나 이상치 판단에 사용"
   ]
  },
  {
   "cell_type": "markdown",
   "id": "05e9bdb6",
   "metadata": {},
   "source": [
    "### ✅ 사분위수를 구하는 이유\n",
    "\n",
    "1. 데이터 분포 파악 <br>\n",
    "• 중앙값, 퍼짐 정도를 시각적으로 파악 가능 <br>\n",
    "• 예: Q1=59, Q3=61 → 대부분 데이터가 59~61 사이에 몰려 있음\n",
    "\n",
    "2. 이상치(Outlier) 탐지 <br>\n",
    "• IQR(사분위 범위) = Q3 - Q1 <br>|\n",
    "• 이상치는 보통 아래 기준으로 판단함:\n",
    "    ```python\n",
    "    이상치 하한: Q1 - 1.5 * IQR  \n",
    "    이상치 상한: Q3 + 1.5 * IQR\n",
    "    # 이 범위를 벗어나면 비정상 데이터일 가능성이 있음\n",
    "    ```\n",
    "\n",
    "3. 편향된 데이터 해석 방지 <br>\n",
    "• 평균은 극단값에 영향 받지만 사분위수는 덜함 <br>\n",
    "• 그래서 중앙값(Median)과 함께 쓰면 데이터 왜곡을 줄일 수 있어"
   ]
  },
  {
   "cell_type": "code",
   "execution_count": null,
   "id": "f23afde5",
   "metadata": {},
   "outputs": [],
   "source": []
  },
  {
   "cell_type": "code",
   "execution_count": null,
   "id": "3b102599",
   "metadata": {},
   "outputs": [],
   "source": []
  },
  {
   "cell_type": "code",
   "execution_count": null,
   "id": "a7013f12",
   "metadata": {},
   "outputs": [],
   "source": []
  }
 ],
 "metadata": {
  "kernelspec": {
   "display_name": "Python 3",
   "language": "python",
   "name": "python3"
  },
  "language_info": {
   "codemirror_mode": {
    "name": "ipython",
    "version": 3
   },
   "file_extension": ".py",
   "mimetype": "text/x-python",
   "name": "python",
   "nbconvert_exporter": "python",
   "pygments_lexer": "ipython3",
   "version": "3.11.11"
  }
 },
 "nbformat": 4,
 "nbformat_minor": 5
}
