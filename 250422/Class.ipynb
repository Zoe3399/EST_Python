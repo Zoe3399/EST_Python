{
 "cells": [
  {
   "cell_type": "code",
   "execution_count": 1,
   "id": "d346f662",
   "metadata": {},
   "outputs": [],
   "source": [
    "num = 3"
   ]
  },
  {
   "cell_type": "code",
   "execution_count": 2,
   "id": "35682d28",
   "metadata": {},
   "outputs": [
    {
     "data": {
      "text/plain": [
       "int"
      ]
     },
     "execution_count": 2,
     "metadata": {},
     "output_type": "execute_result"
    }
   ],
   "source": [
    "type(num)"
   ]
  },
  {
   "cell_type": "code",
   "execution_count": 3,
   "id": "c1989684",
   "metadata": {},
   "outputs": [],
   "source": [
    "num = 'hi'"
   ]
  },
  {
   "cell_type": "code",
   "execution_count": 4,
   "id": "985ab928",
   "metadata": {},
   "outputs": [
    {
     "data": {
      "text/plain": [
       "str"
      ]
     },
     "execution_count": 4,
     "metadata": {},
     "output_type": "execute_result"
    }
   ],
   "source": [
    "type(num)"
   ]
  },
  {
   "cell_type": "code",
   "execution_count": 5,
   "id": "d2b0b048",
   "metadata": {},
   "outputs": [],
   "source": [
    "class Person:\n",
    "    pass"
   ]
  },
  {
   "cell_type": "code",
   "execution_count": 6,
   "id": "933ce907",
   "metadata": {},
   "outputs": [
    {
     "data": {
      "text/plain": [
       "__main__.Person"
      ]
     },
     "execution_count": 6,
     "metadata": {},
     "output_type": "execute_result"
    }
   ],
   "source": [
    "Person"
   ]
  },
  {
   "cell_type": "code",
   "execution_count": 7,
   "id": "7058e918",
   "metadata": {},
   "outputs": [
    {
     "data": {
      "text/plain": [
       "4599426368"
      ]
     },
     "execution_count": 7,
     "metadata": {},
     "output_type": "execute_result"
    }
   ],
   "source": [
    "id(Person)"
   ]
  },
  {
   "cell_type": "code",
   "execution_count": 10,
   "id": "74b3db23",
   "metadata": {},
   "outputs": [],
   "source": [
    "class Person:\n",
    "    def __init__(self, name):\n",
    "        self.name = name"
   ]
  },
  {
   "cell_type": "code",
   "execution_count": 14,
   "id": "1be54ecb",
   "metadata": {},
   "outputs": [],
   "source": [
    "name1 = Person('승주')"
   ]
  },
  {
   "cell_type": "code",
   "execution_count": 15,
   "id": "f7b761e8",
   "metadata": {},
   "outputs": [
    {
     "data": {
      "text/plain": [
       "<__main__.Person at 0x1086c4410>"
      ]
     },
     "execution_count": 15,
     "metadata": {},
     "output_type": "execute_result"
    }
   ],
   "source": [
    "name1"
   ]
  },
  {
   "cell_type": "code",
   "execution_count": 16,
   "id": "60511c44",
   "metadata": {},
   "outputs": [
    {
     "data": {
      "text/plain": [
       "'승주'"
      ]
     },
     "execution_count": 16,
     "metadata": {},
     "output_type": "execute_result"
    }
   ],
   "source": [
    "name1.name"
   ]
  },
  {
   "cell_type": "code",
   "execution_count": null,
   "id": "9b2aa3ca",
   "metadata": {},
   "outputs": [],
   "source": [
    "class Car:\n",
    "    def __init__(self,kind):\n",
    "        self.kind = kind\n",
    "    def run(self):\n",
    "        print('운행중')\n",
    "    def use_car(self):\n",
    "        print('{name1.name}님이 {self.kind}를 탄다'.format(name1=name1, self=self))"
   ]
  },
  {
   "cell_type": "code",
   "execution_count": 53,
   "id": "2091e8c4",
   "metadata": {},
   "outputs": [],
   "source": [
    "taxi = Car('택시')"
   ]
  },
  {
   "cell_type": "code",
   "execution_count": 54,
   "id": "4ca20335",
   "metadata": {},
   "outputs": [
    {
     "data": {
      "text/plain": [
       "'택시'"
      ]
     },
     "execution_count": 54,
     "metadata": {},
     "output_type": "execute_result"
    }
   ],
   "source": [
    "taxi.kind"
   ]
  },
  {
   "cell_type": "code",
   "execution_count": 55,
   "id": "9b3fc9f0",
   "metadata": {},
   "outputs": [
    {
     "name": "stdout",
     "output_type": "stream",
     "text": [
      "운행중\n"
     ]
    }
   ],
   "source": [
    "taxi.run()"
   ]
  },
  {
   "cell_type": "code",
   "execution_count": 57,
   "id": "8ba4a4d7",
   "metadata": {},
   "outputs": [
    {
     "name": "stdout",
     "output_type": "stream",
     "text": [
      "승주님이 택시를 탄다\n"
     ]
    }
   ],
   "source": [
    "taxi.use_car()"
   ]
  },
  {
   "cell_type": "markdown",
   "id": "c65872c7",
   "metadata": {},
   "source": [
    "### 응용 공부"
   ]
  },
  {
   "cell_type": "code",
   "execution_count": null,
   "id": "e5943add",
   "metadata": {},
   "outputs": [
    {
     "name": "stdout",
     "output_type": "stream",
     "text": [
      "멍멍이가 짖습니다.\n"
     ]
    }
   ],
   "source": [
    "class Dog:\n",
    "    def __init__(self, name):\n",
    "        self.name = name\n",
    "    def bark(self):\n",
    "        print(f\"{self.name}가 짖습니다.\")\n",
    "dog1 = Dog('멍멍이')\n",
    "dog1.bark()"
   ]
  },
  {
   "cell_type": "code",
   "execution_count": 58,
   "id": "b5eefaaa",
   "metadata": {},
   "outputs": [],
   "source": [
    "class Tire:\n",
    "    def __init__(self,brand):\n",
    "        self.brand = brand"
   ]
  },
  {
   "cell_type": "code",
   "execution_count": 70,
   "id": "d7176af8",
   "metadata": {},
   "outputs": [],
   "source": [
    "k_tire = Tire('미쉐린타이어')"
   ]
  },
  {
   "cell_type": "code",
   "execution_count": 71,
   "id": "9b1c1557",
   "metadata": {},
   "outputs": [],
   "source": [
    "class Tire2:\n",
    "    def __init__(self, kind, color,tire):\n",
    "        self.kind = kind\n",
    "        self.color = color\n",
    "        self.tire = tire\n",
    "    def run(self):\n",
    "        print('운행중')\n",
    "    def use_car(self):\n",
    "        print(f'{self.color} {self.kind} {self.tire}를 장착했습니다.')"
   ]
  },
  {
   "cell_type": "code",
   "execution_count": null,
   "id": "ab3a016f",
   "metadata": {},
   "outputs": [],
   "source": [
    "mycar = Tire2('승용차','검정색',k_tire.brand)"
   ]
  },
  {
   "cell_type": "code",
   "execution_count": 73,
   "id": "381805b2",
   "metadata": {},
   "outputs": [
    {
     "name": "stdout",
     "output_type": "stream",
     "text": [
      "검정색 승용차 미쉐린타이어를 장착했습니다.\n"
     ]
    }
   ],
   "source": [
    "mycar.use_car()"
   ]
  },
  {
   "cell_type": "markdown",
   "id": "c6e80d9c",
   "metadata": {},
   "source": [
    "##### Q 미래에 시간이 흘러 자동으로 타이어 교체해주는 타이어 자판기에 사용할 프로그램을 만들어보자"
   ]
  },
  {
   "cell_type": "code",
   "execution_count": 83,
   "id": "6b94738d",
   "metadata": {},
   "outputs": [],
   "source": [
    "class TireShop:\n",
    "    def __init__(self, name):\n",
    "        self.name = name\n",
    "    def select_tire(self):\n",
    "        print(f'{self.name}타이어를 선택했습니다.')\n",
    "        print(f'{self.name}타이어를 교체를 진행할까요?.')\n",
    "        answer = input('yes or no: ')\n",
    "        try:\n",
    "            if answer == 'yes':\n",
    "                print('타이어 교체를 진행합니다.')\n",
    "                tire_change()\n",
    "            elif answer == 'no':\n",
    "                print('타이어 교체를 취소합니다.')\n",
    "                print('처음부터 다시 해주세요.')\n",
    "        except: #\n",
    "            print('yes or no로 대답해주세요.')\n",
    "\n",
    "    \n",
    "        def tire_change(self):\n",
    "            print(f'{self.name}로 타이어를가 완료되었습니다.')\n",
    "            print('안전운전하세요!')"
   ]
  },
  {
   "cell_type": "code",
   "execution_count": 84,
   "id": "ea48e167",
   "metadata": {},
   "outputs": [
    {
     "name": "stdout",
     "output_type": "stream",
     "text": [
      "한국타이어타이어를 선택했습니다.\n",
      "한국타이어타이어를 교체를 진행할까요?.\n",
      "타이어 교체를 진행합니다.\n",
      "yes or no로 대답해주세요.\n"
     ]
    }
   ],
   "source": [
    "Tire_select = TireShop(input('변경할 타이어를 입력해주세요: '))\n",
    "Tire_select.select_tire()\n",
    "\n",
    "\n"
   ]
  },
  {
   "cell_type": "markdown",
   "id": "7fa47cfb",
   "metadata": {},
   "source": [
    "#### 부모와 자식"
   ]
  },
  {
   "cell_type": "code",
   "execution_count": 110,
   "id": "07bb33ab",
   "metadata": {},
   "outputs": [],
   "source": [
    "class Animal:\n",
    "    def __init__(self, name):\n",
    "        self.name = name\n",
    "    \n",
    "    def cry(self):\n",
    "        pass  # 자식 클래스에서 재정의\n",
    "\n",
    "class Dog(Animal):\n",
    "    def cry(self):\n",
    "        print(f\"{self.name}가 멍멍하고 짖습니다.\")\n",
    "        \n",
    "class Cat(Animal):\n",
    "    def cry(self):\n",
    "        print(f\"{self.name}가 야옹하고 웁니다.\")"
   ]
  },
  {
   "cell_type": "code",
   "execution_count": 111,
   "id": "82707f82",
   "metadata": {},
   "outputs": [],
   "source": [
    "dog = Dog(\"강아지\")\n",
    "cat = Cat(\"고양이\")\n"
   ]
  },
  {
   "cell_type": "code",
   "execution_count": 112,
   "id": "a184a5d0",
   "metadata": {},
   "outputs": [
    {
     "name": "stdout",
     "output_type": "stream",
     "text": [
      "강아지가 멍멍하고 짖습니다.\n",
      "고양이가 야옹하고 웁니다.\n"
     ]
    }
   ],
   "source": [
    "dog.cry()\n",
    "cat.cry()"
   ]
  },
  {
   "cell_type": "code",
   "execution_count": 86,
   "id": "f53fca16",
   "metadata": {},
   "outputs": [
    {
     "name": "stdout",
     "output_type": "stream",
     "text": [
      "바둑이이(가) 멍멍 짖습니다.\n",
      "나비이(가) 야옹 울어요.\n"
     ]
    }
   ],
   "source": [
    "# 부모 클래스\n",
    "class Animal:\n",
    "    def __init__(self, name):\n",
    "        self.name = name\n",
    "\n",
    "    def speak(self):\n",
    "        print(f\"{self.name}이(가) 소리를 냅니다.\")\n",
    "\n",
    "# 자식 클래스\n",
    "class Dog(Animal):\n",
    "    def speak(self):\n",
    "        print(f\"{self.name}이(가) 멍멍 짖습니다.\")\n",
    "\n",
    "# 또 다른 자식 클래스\n",
    "class Cat(Animal):\n",
    "    def speak(self):\n",
    "        print(f\"{self.name}이(가) 야옹 울어요.\")\n",
    "\n",
    "# 인스턴스 생성\n",
    "dog1 = Dog(\"바둑이\")\n",
    "cat1 = Cat(\"나비\")\n",
    "\n",
    "# 메서드 호출\n",
    "dog1.speak()  # 바둑이이(가) 멍멍 짖습니다.\n",
    "cat1.speak()  # 나비이(가) 야옹 울어요."
   ]
  },
  {
   "cell_type": "code",
   "execution_count": 125,
   "id": "1eb25a06",
   "metadata": {},
   "outputs": [],
   "source": [
    "import time\n",
    "\n",
    "# 부모 클래스\n",
    "class TireShop:\n",
    "    def __init__(self, name):\n",
    "        self.name = name\n",
    "\n",
    "    # 타이어 선택 메서드\n",
    "    def select_tire(self):\n",
    "        print(f'{self.name} 타이어를 선택했습니다.')\n",
    "        print(f'{self.name} 타이어 교체를 진행할까요?')\n",
    "        answer = input('yes or no: ')\n",
    "        try:\n",
    "            if answer == 'yes':\n",
    "                print('타이어 교체를 진행합니다.')\n",
    "                self.tire_change()\n",
    "            elif answer == 'no':\n",
    "                print('타이어 교체를 취소합니다.')\n",
    "            else:\n",
    "                raise ValueError\n",
    "        except:\n",
    "            print('⚠️ yes or no 로 대답해주세요.')\n",
    "    \n",
    "    # 타이어 교체 메서드    \n",
    "    def tire_change(self):\n",
    "        print(f'{self.name} 타이어로 교체 완료되었습니다.')\n",
    "        print('✅ 안전운전하세요!')\n",
    "\n",
    "\n",
    "# 상속\n",
    "class MichelinShop(TireShop):\n",
    "    def tire_change(self):\n",
    "        print(f'🔧 {self.name} 타이어 장착 중...')\n",
    "        time.sleep(5)\n",
    "        print('타이어 장착 완료! 안전운전하세요.')"
   ]
  },
  {
   "cell_type": "code",
   "execution_count": 126,
   "id": "4afcabd1",
   "metadata": {},
   "outputs": [
    {
     "name": "stdout",
     "output_type": "stream",
     "text": [
      "미쉐린 타이어를 선택했습니다.\n",
      "미쉐린 타이어 교체를 진행할까요?\n",
      "타이어 교체를 진행합니다.\n",
      "🔧 미쉐린 타이어 장착 중...\n",
      "타이어 장착 완료! 안전운전하세요.\n"
     ]
    }
   ],
   "source": [
    "shop = MichelinShop(input('변경할 타이어 브랜드를 입력해주세요: '))\n",
    "shop.select_tire()"
   ]
  },
  {
   "cell_type": "code",
   "execution_count": 130,
   "id": "6ad31224",
   "metadata": {},
   "outputs": [],
   "source": [
    "# 부모 클래스\n",
    "class Person:\n",
    "    def __init__(self, name, age):\n",
    "        self.name = name\n",
    "        self.age = age\n",
    "\n",
    "    def info(self):\n",
    "        print(f\"이름: {self.name}, 나이: {self.age}\")\n",
    "\n",
    "# 자식 클래스\n",
    "class Student(Person):\n",
    "    def __init__(self, name, age, student_id):\n",
    "        super().__init__(name, age)  # 부모 생성자 호출\n",
    "        self.student_id = student_id\n",
    "        self.courses = []\n",
    "\n",
    "    def add_course(self, course):\n",
    "        self.courses.append(course)\n",
    "        print(f\"{self.name}의 {course} 과목이 수강신청이 완료되었습니다.\")\n",
    "\n",
    "    def remove_course(self, course):\n",
    "        if course in self.courses:\n",
    "            self.courses.remove(course)\n",
    "            print(f\"{self.name}의 {course} 과목이 수강신청이 취소되었습니다.\")\n",
    "        else:\n",
    "            print(f\"{self.name}는 {course} 과목을 수강신청하지 않았습니다.\")\n",
    "\n",
    "    def show_courses(self):\n",
    "        if self.courses:\n",
    "            print(f\"{self.name}의 수강 과목: {', '.join(self.courses)}\")\n",
    "        else:\n",
    "            print(f\"{self.name}는 수강 과목이 없습니다.\")\n",
    "\n",
    "    def full_info(self):\n",
    "        self.info()  # 부모 클래스 info() 호출\n",
    "        print(f\"학번: {self.student_id}\")"
   ]
  },
  {
   "cell_type": "code",
   "execution_count": 131,
   "id": "9968bb76",
   "metadata": {},
   "outputs": [
    {
     "name": "stdout",
     "output_type": "stream",
     "text": [
      "박승주의 파이썬 과목이 수강신청이 완료되었습니다.\n",
      "박승주의 수강 과목: 파이썬\n",
      "이름: 박승주, 나이: 23\n",
      "학번: 1813130\n"
     ]
    }
   ],
   "source": [
    "# 사용자 입력\n",
    "name = input(\"이름을 입력하세요: \")\n",
    "age = int(input(\"나이를 입력하세요: \"))\n",
    "student_id = input(\"학번을 입력하세요: \")\n",
    "course = input(\"수강할 과목을 입력하세요: \")\n",
    "\n",
    "# 인스턴스 생성 및 실행\n",
    "student = Student(name, age, student_id)\n",
    "student.add_course(course)\n",
    "student.show_courses()\n",
    "student.full_info()"
   ]
  }
 ],
 "metadata": {
  "kernelspec": {
   "display_name": "Python 3",
   "language": "python",
   "name": "python3"
  },
  "language_info": {
   "codemirror_mode": {
    "name": "ipython",
    "version": 3
   },
   "file_extension": ".py",
   "mimetype": "text/x-python",
   "name": "python",
   "nbconvert_exporter": "python",
   "pygments_lexer": "ipython3",
   "version": "3.11.11"
  }
 },
 "nbformat": 4,
 "nbformat_minor": 5
}
