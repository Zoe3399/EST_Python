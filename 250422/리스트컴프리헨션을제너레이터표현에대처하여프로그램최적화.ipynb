{
 "cells": [
  {
   "cell_type": "code",
   "execution_count": 1,
   "id": "241d5002",
   "metadata": {},
   "outputs": [],
   "source": [
    "import sys"
   ]
  },
  {
   "cell_type": "code",
   "execution_count": null,
   "id": "c7d82feb",
   "metadata": {},
   "outputs": [
    {
     "name": "stdout",
     "output_type": "stream",
     "text": [
      "89095160\n"
     ]
    }
   ],
   "source": [
    "nums_squared_list = [i**2 for i in range(1000000)]\n",
    "print(sys.getsizeof(nums_squared_list))"
   ]
  },
  {
   "cell_type": "code",
   "execution_count": 3,
   "id": "c488a7d5",
   "metadata": {},
   "outputs": [
    {
     "name": "stdout",
     "output_type": "stream",
     "text": [
      "208\n"
     ]
    }
   ],
   "source": [
    "nums_squared_generator=(i **2 for i in range(1000000))\n",
    "print(sys.getsizeof(nums_squared_generator))"
   ]
  },
  {
   "cell_type": "markdown",
   "id": "347aa93c",
   "metadata": {},
   "source": [
    "의미: range(1000000)에서 0부터 999999까지의 숫자를 가져와 각 숫자를 제곱하여 리스트로 만듭니다. <br>\n",
    "결과적으로 1000000개의 제곱값을 포함한 리스트가 생성됩니다.<br>\n",
    "메모리 사용: 리스트는 모든 요소를 메모리에 저장하므로, 리스트의 크기는 상당히 큽니다."
   ]
  },
  {
   "cell_type": "code",
   "execution_count": null,
   "id": "e7535f5e",
   "metadata": {},
   "outputs": [],
   "source": []
  }
 ],
 "metadata": {
  "kernelspec": {
   "display_name": "Python 3",
   "language": "python",
   "name": "python3"
  },
  "language_info": {
   "codemirror_mode": {
    "name": "ipython",
    "version": 3
   },
   "file_extension": ".py",
   "mimetype": "text/x-python",
   "name": "python",
   "nbconvert_exporter": "python",
   "pygments_lexer": "ipython3",
   "version": "3.11.11"
  }
 },
 "nbformat": 4,
 "nbformat_minor": 5
}
