{
 "cells": [
  {
   "cell_type": "code",
   "execution_count": 1,
   "id": "af227456",
   "metadata": {},
   "outputs": [],
   "source": [
    "import random"
   ]
  },
  {
   "cell_type": "code",
   "execution_count": null,
   "id": "bb6f30ae",
   "metadata": {},
   "outputs": [
    {
     "data": {
      "text/plain": [
       "43"
      ]
     },
     "execution_count": 4,
     "metadata": {},
     "output_type": "execute_result"
    }
   ],
   "source": [
    "random.randint(1, 100) # 난수"
   ]
  },
  {
   "cell_type": "code",
   "execution_count": null,
   "id": "b2d302ed",
   "metadata": {},
   "outputs": [],
   "source": [
    "from urllib.parse import urlencode, quote, unquote"
   ]
  },
  {
   "cell_type": "code",
   "execution_count": null,
   "id": "d6482d18",
   "metadata": {},
   "outputs": [
    {
     "name": "stdout",
     "output_type": "stream",
     "text": [
      "URL 인코딩: q=%ED%8C%8C%EC%9D%B4%EC%8D%AC+%ED%81%AC%EB%A1%A4%EB%A7%81\n"
     ]
    }
   ],
   "source": [
    "params = {'q': '파이썬 크롤링'}\n",
    "encoded = urlencode(params)\n",
    "print(\"URL 인코딩:\", encoded)"
   ]
  },
  {
   "cell_type": "code",
   "execution_count": 7,
   "id": "ddf846c1",
   "metadata": {},
   "outputs": [
    {
     "name": "stdout",
     "output_type": "stream",
     "text": [
      "quote: %ED%95%9C%EA%B8%80\n",
      "unquote: 한글\n"
     ]
    }
   ],
   "source": [
    "# 직접 인코딩\n",
    "text = '한글'\n",
    "print(\"quote:\", quote(text))      # %ED%95%9C%EA%B8%80\n",
    "print(\"unquote:\", unquote('%ED%95%9C%EA%B8%80'))  # 한글"
   ]
  },
  {
   "cell_type": "code",
   "execution_count": 10,
   "id": "eb7f20dd",
   "metadata": {},
   "outputs": [],
   "source": [
    "import urllib.request"
   ]
  },
  {
   "cell_type": "code",
   "execution_count": 11,
   "id": "325bd868",
   "metadata": {},
   "outputs": [
    {
     "name": "stdout",
     "output_type": "stream",
     "text": [
      "   <!doctype html> <html lang=\"ko\" class=\"fzoom\"> <head> <meta charset=\"utf-8\"> <meta name=\"Referrer\" content=\"origin\"> <meta http-equiv=\"X-UA-Compatible\" content=\"IE=edge\"> <meta name=\"viewport\" content=\"width=1190\"> <title>NAVER</title> <meta name=\"apple-mobile-web-app-title\" content=\"NAVER\"/> <meta name=\"robots\" content=\"index,nofollow\"/> <meta name=\"description\" content=\"네이버 메인에서 다양한 정보와 유용한 컨텐츠를 만나 보세요\"/> <meta property=\"og:title\" content=\"네이버\"> <meta property=\"og:url\" content=\"https://www.\n"
     ]
    }
   ],
   "source": [
    "try:\n",
    "    response = urllib.request.urlopen('https://www.naver.com', timeout=5)\n",
    "    html = response.read().decode('utf-8')\n",
    "    print(html[:500])\n",
    "except Exception as e:\n",
    "    print(\"에러 발생:\", e)"
   ]
  }
 ],
 "metadata": {
  "kernelspec": {
   "display_name": "Python 3",
   "language": "python",
   "name": "python3"
  },
  "language_info": {
   "codemirror_mode": {
    "name": "ipython",
    "version": 3
   },
   "file_extension": ".py",
   "mimetype": "text/x-python",
   "name": "python",
   "nbconvert_exporter": "python",
   "pygments_lexer": "ipython3",
   "version": "3.11.11"
  }
 },
 "nbformat": 4,
 "nbformat_minor": 5
}
